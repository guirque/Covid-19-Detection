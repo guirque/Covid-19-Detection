{
  "cells": [
    {
      "cell_type": "markdown",
      "metadata": {
        "id": "3UF8rKAX1Fb5"
      },
      "source": [
        "# Setup"
      ]
    },
    {
      "cell_type": "code",
      "execution_count": 1,
      "metadata": {
        "id": "xXEJUHYM1IYe"
      },
      "outputs": [],
      "source": [
        "import setup\n",
        "import os"
      ]
    },
    {
      "cell_type": "markdown",
      "metadata": {
        "id": "fQTR_8N6xp-F"
      },
      "source": [
        "# Dataset Downloading"
      ]
    },
    {
      "cell_type": "markdown",
      "metadata": {
        "id": "mJUdeIXxzRp8"
      },
      "source": [
        "Covid-19 Image Classification"
      ]
    },
    {
      "cell_type": "code",
      "execution_count": 2,
      "metadata": {
        "colab": {
          "base_uri": "https://localhost:8080/"
        },
        "id": "8HMZw3_hvzY1",
        "outputId": "0858e4c4-7cfa-45bd-b255-feb5d98539d1"
      },
      "outputs": [],
      "source": [
        "#!curl -L -o /content/sample_data/covid19-image-dataset.zip\\\n",
        "#  https://www.kaggle.com/api/v1/datasets/download/pranavraikokte/covid19-image-dataset"
      ]
    },
    {
      "cell_type": "code",
      "execution_count": 3,
      "metadata": {
        "id": "4OlO8Ie1yUfg"
      },
      "outputs": [],
      "source": [
        "#from zipfile import ZipFile\n",
        "#with ZipFile('/content/sample_data/covid19-image-dataset.zip') as zp:\n",
        "#  zp.extractall('/content/sample_data/')"
      ]
    },
    {
      "cell_type": "markdown",
      "metadata": {
        "id": "UEcpmFJuzXII"
      },
      "source": [
        "# Data Loading"
      ]
    },
    {
      "cell_type": "code",
      "execution_count": 4,
      "metadata": {},
      "outputs": [
        {
          "name": "stdout",
          "output_type": "stream",
          "text": [
            "/home/guilherme/code/python/Covid19_CNN/dataset/Covid19-dataset/train/Covid/COVID-00004.jpg 1050 973\n",
            "/home/guilherme/code/python/Covid19_CNN/dataset/Covid19-dataset/train/Covid/COVID-00025.jpg 895 734\n",
            "/home/guilherme/code/python/Covid19_CNN/dataset/Covid19-dataset/train/Covid/COVID-00029.jpg 785 664\n",
            "/home/guilherme/code/python/Covid19_CNN/dataset/Covid19-dataset/train/Covid/COVID-00018.jpg 1213 1611\n",
            "/home/guilherme/code/python/Covid19_CNN/dataset/Covid19-dataset/train/Covid/COVID-00002.jpg 2665 2197\n",
            "/home/guilherme/code/python/Covid19_CNN/dataset/Covid19-dataset/train/Covid/073.jpg 1534 1517\n",
            "/home/guilherme/code/python/Covid19_CNN/dataset/Covid19-dataset/train/Covid/COVID-00011.jpg 1743 1674\n",
            "/home/guilherme/code/python/Covid19_CNN/dataset/Covid19-dataset/train/Covid/COVID-00003a.jpg 1502 1192\n",
            "/home/guilherme/code/python/Covid19_CNN/dataset/Covid19-dataset/train/Covid/COVID-00024.jpg 849 695\n",
            "/home/guilherme/code/python/Covid19_CNN/dataset/Covid19-dataset/train/Covid/089.jpg 999 816\n",
            "/home/guilherme/code/python/Covid19_CNN/dataset/Covid19-dataset/train/Covid/COVID-00027.jpg 881 663\n",
            "/home/guilherme/code/python/Covid19_CNN/dataset/Covid19-dataset/train/Covid/COVID-00032.jpg 977 734\n",
            "/home/guilherme/code/python/Covid19_CNN/dataset/Covid19-dataset/train/Covid/068.jpg 1534 1970\n",
            "/home/guilherme/code/python/Covid19_CNN/dataset/Covid19-dataset/train/Covid/COVID-00022.jpg 651 655\n",
            "/home/guilherme/code/python/Covid19_CNN/dataset/Covid19-dataset/train/Covid/COVID-00030.jpg 888 700\n",
            "/home/guilherme/code/python/Covid19_CNN/dataset/Covid19-dataset/train/Covid/082.jpg 1165 1163\n",
            "/home/guilherme/code/python/Covid19_CNN/dataset/Covid19-dataset/train/Covid/COVID-00001.jpg 1151 972\n",
            "/home/guilherme/code/python/Covid19_CNN/dataset/Covid19-dataset/train/Covid/COVID-00017.jpg 1414 1755\n",
            "/home/guilherme/code/python/Covid19_CNN/dataset/Covid19-dataset/train/Covid/COVID-00007.jpg 1690 1703\n",
            "/home/guilherme/code/python/Covid19_CNN/dataset/Covid19-dataset/train/Covid/COVID-00037.jpg 972 733\n",
            "/home/guilherme/code/python/Covid19_CNN/dataset/Covid19-dataset/train/Covid/COVID-00016.jpg 1440 1420\n",
            "/home/guilherme/code/python/Covid19_CNN/dataset/Covid19-dataset/train/Covid/COVID-00038.jpg 890 662\n",
            "/home/guilherme/code/python/Covid19_CNN/dataset/Covid19-dataset/train/Covid/COVID-00031.jpg 892 734\n",
            "/home/guilherme/code/python/Covid19_CNN/dataset/Covid19-dataset/train/Covid/COVID-00009.jpg 1980 2004\n",
            "/home/guilherme/code/python/Covid19_CNN/dataset/Covid19-dataset/train/Covid/086.jpg 1166 1161\n",
            "/home/guilherme/code/python/Covid19_CNN/dataset/Covid19-dataset/train/Covid/COVID-00013a.jpg 1796 1330\n",
            "/home/guilherme/code/python/Covid19_CNN/dataset/Covid19-dataset/train/Covid/061.jpg 1165 1165\n",
            "/home/guilherme/code/python/Covid19_CNN/dataset/Covid19-dataset/train/Covid/COVID-00008.jpg 1772 1794\n",
            "/home/guilherme/code/python/Covid19_CNN/dataset/Covid19-dataset/train/Covid/COVID-00020.jpg 844 480\n",
            "/home/guilherme/code/python/Covid19_CNN/dataset/Covid19-dataset/train/Covid/07.jpg 2386 1835\n",
            "/home/guilherme/code/python/Covid19_CNN/dataset/Covid19-dataset/train/Covid/COVID-00021.jpg 767 739\n",
            "/home/guilherme/code/python/Covid19_CNN/dataset/Covid19-dataset/train/Covid/091.jpg 1296 1062\n",
            "/home/guilherme/code/python/Covid19_CNN/dataset/Covid19-dataset/train/Covid/020.jpg 2494 2048\n",
            "/home/guilherme/code/python/Covid19_CNN/dataset/Covid19-dataset/train/Covid/COVID-00003b.jpg 1109 1231\n",
            "/home/guilherme/code/python/Covid19_CNN/dataset/Covid19-dataset/train/Covid/COVID-00019.jpg 2037 1653\n",
            "/home/guilherme/code/python/Covid19_CNN/dataset/Covid19-dataset/train/Covid/COVID-00006.jpg 3024 4032\n",
            "/home/guilherme/code/python/Covid19_CNN/dataset/Covid19-dataset/train/Covid/076.jpg 1534 1517\n",
            "/home/guilherme/code/python/Covid19_CNN/dataset/Covid19-dataset/train/Covid/COVID-00014.jpg 1594 1600\n",
            "/home/guilherme/code/python/Covid19_CNN/dataset/Covid19-dataset/train/Covid/067.jpg 1446 1262\n",
            "/home/guilherme/code/python/Covid19_CNN/dataset/Covid19-dataset/train/Covid/COVID-00036.jpg 895 734\n",
            "/home/guilherme/code/python/Covid19_CNN/dataset/Covid19-dataset/train/Covid/064.jpg 1170 1161\n",
            "/home/guilherme/code/python/Covid19_CNN/dataset/Covid19-dataset/train/Covid/COVID-00005.jpg 3604 2953\n",
            "/home/guilherme/code/python/Covid19_CNN/dataset/Covid19-dataset/train/Covid/COVID-00026.jpg 895 732\n",
            "/home/guilherme/code/python/Covid19_CNN/dataset/Covid19-dataset/train/Covid/074.jpg 1534 1517\n",
            "/home/guilherme/code/python/Covid19_CNN/dataset/Covid19-dataset/train/Covid/COVID-00012.jpg 556 557\n",
            "/home/guilherme/code/python/Covid19_CNN/dataset/Covid19-dataset/train/Covid/056.jpg 1404 1412\n",
            "/home/guilherme/code/python/Covid19_CNN/dataset/Covid19-dataset/train/Covid/080.jpg 1401 1402\n",
            "/home/guilherme/code/python/Covid19_CNN/dataset/Covid19-dataset/train/Covid/COVID-00034.jpg 918 733\n",
            "/home/guilherme/code/python/Covid19_CNN/dataset/Covid19-dataset/train/Covid/COVID-00023.jpg 681 678\n",
            "/home/guilherme/code/python/Covid19_CNN/dataset/Covid19-dataset/train/Covid/COVID-00013b.jpg 1806 1375\n",
            "/home/guilherme/code/python/Covid19_CNN/dataset/Covid19-dataset/train/Covid/071.jpg 1534 1517\n",
            "/home/guilherme/code/python/Covid19_CNN/dataset/Covid19-dataset/train/Covid/015.jpg 2972 2840\n",
            "/home/guilherme/code/python/Covid19_CNN/dataset/Covid19-dataset/train/Covid/COVID-00035.jpg 895 734\n",
            "/home/guilherme/code/python/Covid19_CNN/dataset/Covid19-dataset/train/Covid/COVID-00010.jpg 1969 1952\n",
            "/home/guilherme/code/python/Covid19_CNN/dataset/Covid19-dataset/train/Covid/069.jpg 1262 1146\n",
            "/home/guilherme/code/python/Covid19_CNN/dataset/Covid19-dataset/train/Covid/COVID-00033.jpg 972 733\n",
            "/home/guilherme/code/python/Covid19_CNN/dataset/Covid19-dataset/train/Covid/COVID-00028.jpg 827 679\n",
            "/home/guilherme/code/python/Covid19_CNN/dataset/Covid19-dataset/train/Covid/092.png 439 391\n",
            "/home/guilherme/code/python/Covid19_CNN/dataset/Covid19-dataset/train/Covid/04.png 2567 2190\n",
            "/home/guilherme/code/python/Covid19_CNN/dataset/Covid19-dataset/train/Covid/019.png 955 954\n",
            "/home/guilherme/code/python/Covid19_CNN/dataset/Covid19-dataset/train/Covid/010.png 1458 1303\n",
            "/home/guilherme/code/python/Covid19_CNN/dataset/Covid19-dataset/train/Covid/COVID-00015a.png 872 648\n",
            "/home/guilherme/code/python/Covid19_CNN/dataset/Covid19-dataset/train/Covid/COVID-00015b.png 3052 2541\n",
            "/home/guilherme/code/python/Covid19_CNN/dataset/Covid19-dataset/train/Covid/09.png 1726 1552\n",
            "/home/guilherme/code/python/Covid19_CNN/dataset/Covid19-dataset/train/Covid/033.png 790 631\n",
            "/home/guilherme/code/python/Covid19_CNN/dataset/Covid19-dataset/train/Covid/057.jpeg 1677 1611\n",
            "/home/guilherme/code/python/Covid19_CNN/dataset/Covid19-dataset/train/Covid/046.jpeg 1750 1800\n",
            "/home/guilherme/code/python/Covid19_CNN/dataset/Covid19-dataset/train/Covid/042.jpeg 1772 1800\n",
            "/home/guilherme/code/python/Covid19_CNN/dataset/Covid19-dataset/train/Covid/081.jpeg 1300 1343\n",
            "/home/guilherme/code/python/Covid19_CNN/dataset/Covid19-dataset/train/Covid/058.jpeg 1652 1308\n",
            "/home/guilherme/code/python/Covid19_CNN/dataset/Covid19-dataset/train/Covid/053.jpeg 1800 1522\n",
            "/home/guilherme/code/python/Covid19_CNN/dataset/Covid19-dataset/train/Covid/027.jpeg 1592 1448\n",
            "/home/guilherme/code/python/Covid19_CNN/dataset/Covid19-dataset/train/Covid/048.jpeg 1787 1800\n",
            "/home/guilherme/code/python/Covid19_CNN/dataset/Covid19-dataset/train/Covid/03.jpeg 4200 3408\n",
            "/home/guilherme/code/python/Covid19_CNN/dataset/Covid19-dataset/train/Covid/047.jpeg 1989 1482\n",
            "/home/guilherme/code/python/Covid19_CNN/dataset/Covid19-dataset/train/Covid/045.jpeg 1837 1505\n",
            "/home/guilherme/code/python/Covid19_CNN/dataset/Covid19-dataset/train/Covid/083.jpeg 1175 1332\n",
            "/home/guilherme/code/python/Covid19_CNN/dataset/Covid19-dataset/train/Covid/044.jpeg 1799 1472\n",
            "/home/guilherme/code/python/Covid19_CNN/dataset/Covid19-dataset/train/Covid/040.jpeg 1708 1710\n",
            "/home/guilherme/code/python/Covid19_CNN/dataset/Covid19-dataset/train/Covid/031.jpeg 1727 1442\n",
            "/home/guilherme/code/python/Covid19_CNN/dataset/Covid19-dataset/train/Covid/050.jpeg 1695 1570\n",
            "/home/guilherme/code/python/Covid19_CNN/dataset/Covid19-dataset/train/Covid/085.jpeg 1187 1330\n",
            "/home/guilherme/code/python/Covid19_CNN/dataset/Covid19-dataset/train/Covid/032.jpeg 1723 1466\n",
            "/home/guilherme/code/python/Covid19_CNN/dataset/Covid19-dataset/train/Covid/084.jpeg 1090 842\n",
            "/home/guilherme/code/python/Covid19_CNN/dataset/Covid19-dataset/train/Covid/088.jpeg 1104 874\n",
            "/home/guilherme/code/python/Covid19_CNN/dataset/Covid19-dataset/train/Covid/026.jpeg 2061 1369\n",
            "/home/guilherme/code/python/Covid19_CNN/dataset/Covid19-dataset/train/Covid/043.jpeg 1692 1474\n",
            "/home/guilherme/code/python/Covid19_CNN/dataset/Covid19-dataset/train/Covid/051.jpeg 1800 1779\n",
            "/home/guilherme/code/python/Covid19_CNN/dataset/Covid19-dataset/train/Covid/01.jpeg 4248 3480\n",
            "/home/guilherme/code/python/Covid19_CNN/dataset/Covid19-dataset/train/Covid/06.jpeg 2836 2336\n",
            "/home/guilherme/code/python/Covid19_CNN/dataset/Covid19-dataset/train/Covid/052.jpeg 1793 1479\n",
            "/home/guilherme/code/python/Covid19_CNN/dataset/Covid19-dataset/train/Covid/060.jpeg 1641 1668\n",
            "/home/guilherme/code/python/Covid19_CNN/dataset/Covid19-dataset/train/Covid/059.jpeg 1800 1546\n",
            "/home/guilherme/code/python/Covid19_CNN/dataset/Covid19-dataset/train/Covid/024.jpeg 2150 1648\n",
            "/home/guilherme/code/python/Covid19_CNN/dataset/Covid19-dataset/train/Covid/025.jpeg 2059 1483\n",
            "/home/guilherme/code/python/Covid19_CNN/dataset/Covid19-dataset/train/Covid/021.jpeg 1884 1447\n",
            "/home/guilherme/code/python/Covid19_CNN/dataset/Covid19-dataset/train/Covid/039.jpeg 1992 1285\n",
            "/home/guilherme/code/python/Covid19_CNN/dataset/Covid19-dataset/train/Covid/041.jpeg 1800 1439\n",
            "/home/guilherme/code/python/Covid19_CNN/dataset/Covid19-dataset/train/Covid/078.jpeg 1598 1550\n",
            "/home/guilherme/code/python/Covid19_CNN/dataset/Covid19-dataset/train/Covid/054.jpeg 1800 1593\n",
            "/home/guilherme/code/python/Covid19_CNN/dataset/Covid19-dataset/train/Covid/062.jpeg 1560 1668\n",
            "/home/guilherme/code/python/Covid19_CNN/dataset/Covid19-dataset/train/Covid/02.jpeg 4248 3480\n",
            "/home/guilherme/code/python/Covid19_CNN/dataset/Covid19-dataset/train/Covid/079.jpeg 1645 1272\n",
            "/home/guilherme/code/python/Covid19_CNN/dataset/Covid19-dataset/train/Covid/08.jpeg 3342 4095\n",
            "/home/guilherme/code/python/Covid19_CNN/dataset/Covid19-dataset/train/Covid/072.jpeg 1249 1243\n",
            "/home/guilherme/code/python/Covid19_CNN/dataset/Covid19-dataset/train/Covid/022.jpeg 1989 1463\n",
            "/home/guilherme/code/python/Covid19_CNN/dataset/Covid19-dataset/train/Covid/065.jpeg 1696 1403\n",
            "/home/guilherme/code/python/Covid19_CNN/dataset/Covid19-dataset/train/Covid/055.jpeg 1800 1508\n",
            "/home/guilherme/code/python/Covid19_CNN/dataset/Covid19-dataset/train/Covid/012.jpeg 2500 2048\n",
            "/home/guilherme/code/python/Covid19_CNN/dataset/Covid19-dataset/train/Covid/049.jpeg 1800 1546\n",
            "/home/guilherme/code/python/Covid19_CNN/dataset/Covid19-dataset/train/Covid/090.jpeg 1107 841\n",
            "/home/guilherme/code/python/Covid19_CNN/dataset/Covid19-dataset/train/Viral Pneumonia/076.jpeg 1520 872\n",
            "/home/guilherme/code/python/Covid19_CNN/dataset/Covid19-dataset/train/Viral Pneumonia/057.jpeg 1192 856\n",
            "/home/guilherme/code/python/Covid19_CNN/dataset/Covid19-dataset/train/Viral Pneumonia/077.jpeg 1310 882\n",
            "/home/guilherme/code/python/Covid19_CNN/dataset/Covid19-dataset/train/Viral Pneumonia/046.jpeg 1496 960\n",
            "/home/guilherme/code/python/Covid19_CNN/dataset/Covid19-dataset/train/Viral Pneumonia/011.jpeg 1365 1118\n",
            "/home/guilherme/code/python/Covid19_CNN/dataset/Covid19-dataset/train/Viral Pneumonia/05.jpeg 1632 1312\n",
            "/home/guilherme/code/python/Covid19_CNN/dataset/Covid19-dataset/train/Viral Pneumonia/018.jpeg 1456 1080\n",
            "/home/guilherme/code/python/Covid19_CNN/dataset/Covid19-dataset/train/Viral Pneumonia/042.jpeg 1312 1000\n",
            "/home/guilherme/code/python/Covid19_CNN/dataset/Covid19-dataset/train/Viral Pneumonia/096.jpeg 1328 920\n",
            "/home/guilherme/code/python/Covid19_CNN/dataset/Covid19-dataset/train/Viral Pneumonia/081.jpeg 1064 840\n",
            "/home/guilherme/code/python/Covid19_CNN/dataset/Covid19-dataset/train/Viral Pneumonia/058.jpeg 1288 952\n",
            "/home/guilherme/code/python/Covid19_CNN/dataset/Covid19-dataset/train/Viral Pneumonia/053.jpeg 1160 960\n",
            "/home/guilherme/code/python/Covid19_CNN/dataset/Covid19-dataset/train/Viral Pneumonia/013.jpeg 1558 1218\n",
            "/home/guilherme/code/python/Covid19_CNN/dataset/Covid19-dataset/train/Viral Pneumonia/027.jpeg 1592 1144\n",
            "/home/guilherme/code/python/Covid19_CNN/dataset/Covid19-dataset/train/Viral Pneumonia/067.jpeg 1168 840\n",
            "/home/guilherme/code/python/Covid19_CNN/dataset/Covid19-dataset/train/Viral Pneumonia/048.jpeg 1192 920\n",
            "/home/guilherme/code/python/Covid19_CNN/dataset/Covid19-dataset/train/Viral Pneumonia/068.jpeg 1350 936\n",
            "/home/guilherme/code/python/Covid19_CNN/dataset/Covid19-dataset/train/Viral Pneumonia/03.jpeg 1952 1296\n",
            "/home/guilherme/code/python/Covid19_CNN/dataset/Covid19-dataset/train/Viral Pneumonia/047.jpeg 1544 872\n",
            "/home/guilherme/code/python/Covid19_CNN/dataset/Covid19-dataset/train/Viral Pneumonia/045.jpeg 1288 920\n",
            "/home/guilherme/code/python/Covid19_CNN/dataset/Covid19-dataset/train/Viral Pneumonia/083.jpeg 1464 744\n",
            "/home/guilherme/code/python/Covid19_CNN/dataset/Covid19-dataset/train/Viral Pneumonia/044.jpeg 1568 1184\n",
            "/home/guilherme/code/python/Covid19_CNN/dataset/Covid19-dataset/train/Viral Pneumonia/063.jpeg 1072 880\n",
            "/home/guilherme/code/python/Covid19_CNN/dataset/Covid19-dataset/train/Viral Pneumonia/073.jpeg 1056 840\n",
            "/home/guilherme/code/python/Covid19_CNN/dataset/Covid19-dataset/train/Viral Pneumonia/071.jpeg 1458 990\n",
            "/home/guilherme/code/python/Covid19_CNN/dataset/Covid19-dataset/train/Viral Pneumonia/031.jpeg 1488 1136\n",
            "/home/guilherme/code/python/Covid19_CNN/dataset/Covid19-dataset/train/Viral Pneumonia/016.jpeg 1432 1288\n",
            "/home/guilherme/code/python/Covid19_CNN/dataset/Covid19-dataset/train/Viral Pneumonia/032.jpeg 1624 968\n",
            "/home/guilherme/code/python/Covid19_CNN/dataset/Covid19-dataset/train/Viral Pneumonia/084.jpeg 1216 872\n",
            "/home/guilherme/code/python/Covid19_CNN/dataset/Covid19-dataset/train/Viral Pneumonia/023.jpeg 1344 1152\n",
            "/home/guilherme/code/python/Covid19_CNN/dataset/Covid19-dataset/train/Viral Pneumonia/074.jpeg 1512 888\n",
            "/home/guilherme/code/python/Covid19_CNN/dataset/Covid19-dataset/train/Viral Pneumonia/043.jpeg 1432 976\n",
            "/home/guilherme/code/python/Covid19_CNN/dataset/Covid19-dataset/train/Viral Pneumonia/036.jpeg 1528 968\n",
            "/home/guilherme/code/python/Covid19_CNN/dataset/Covid19-dataset/train/Viral Pneumonia/051.jpeg 1344 864\n",
            "/home/guilherme/code/python/Covid19_CNN/dataset/Covid19-dataset/train/Viral Pneumonia/04.jpeg 1400 1048\n",
            "/home/guilherme/code/python/Covid19_CNN/dataset/Covid19-dataset/train/Viral Pneumonia/075.jpeg 1352 792\n",
            "/home/guilherme/code/python/Covid19_CNN/dataset/Covid19-dataset/train/Viral Pneumonia/01.jpeg 1582 1333\n",
            "/home/guilherme/code/python/Covid19_CNN/dataset/Covid19-dataset/train/Viral Pneumonia/06.jpeg 1648 1400\n",
            "/home/guilherme/code/python/Covid19_CNN/dataset/Covid19-dataset/train/Viral Pneumonia/07.jpeg 1712 1392\n",
            "/home/guilherme/code/python/Covid19_CNN/dataset/Covid19-dataset/train/Viral Pneumonia/061.jpeg 1336 1032\n",
            "/home/guilherme/code/python/Covid19_CNN/dataset/Covid19-dataset/train/Viral Pneumonia/052.jpeg 1462 1010\n",
            "/home/guilherme/code/python/Covid19_CNN/dataset/Covid19-dataset/train/Viral Pneumonia/019.jpeg 1600 992\n",
            "/home/guilherme/code/python/Covid19_CNN/dataset/Covid19-dataset/train/Viral Pneumonia/035.jpeg 1328 984\n",
            "/home/guilherme/code/python/Covid19_CNN/dataset/Covid19-dataset/train/Viral Pneumonia/056.jpeg 1408 840\n",
            "/home/guilherme/code/python/Covid19_CNN/dataset/Covid19-dataset/train/Viral Pneumonia/024.jpeg 1400 1048\n",
            "/home/guilherme/code/python/Covid19_CNN/dataset/Covid19-dataset/train/Viral Pneumonia/025.jpeg 1352 1064\n",
            "/home/guilherme/code/python/Covid19_CNN/dataset/Covid19-dataset/train/Viral Pneumonia/094.jpeg 1268 816\n",
            "/home/guilherme/code/python/Covid19_CNN/dataset/Covid19-dataset/train/Viral Pneumonia/021.jpeg 1504 1032\n",
            "/home/guilherme/code/python/Covid19_CNN/dataset/Covid19-dataset/train/Viral Pneumonia/082.jpeg 1280 1000\n",
            "/home/guilherme/code/python/Covid19_CNN/dataset/Covid19-dataset/train/Viral Pneumonia/095.jpeg 1190 925\n",
            "/home/guilherme/code/python/Covid19_CNN/dataset/Covid19-dataset/train/Viral Pneumonia/09.jpeg 1960 1416\n",
            "/home/guilherme/code/python/Covid19_CNN/dataset/Covid19-dataset/train/Viral Pneumonia/064.jpeg 1512 991\n",
            "/home/guilherme/code/python/Covid19_CNN/dataset/Covid19-dataset/train/Viral Pneumonia/041.jpeg 1280 984\n",
            "/home/guilherme/code/python/Covid19_CNN/dataset/Covid19-dataset/train/Viral Pneumonia/078.jpeg 1360 920\n",
            "/home/guilherme/code/python/Covid19_CNN/dataset/Covid19-dataset/train/Viral Pneumonia/054.jpeg 1388 1013\n",
            "/home/guilherme/code/python/Covid19_CNN/dataset/Covid19-dataset/train/Viral Pneumonia/062.jpeg 1248 840\n",
            "/home/guilherme/code/python/Covid19_CNN/dataset/Covid19-dataset/train/Viral Pneumonia/02.jpeg 2000 1456\n",
            "/home/guilherme/code/python/Covid19_CNN/dataset/Covid19-dataset/train/Viral Pneumonia/08.jpeg 1624 1288\n",
            "/home/guilherme/code/python/Covid19_CNN/dataset/Covid19-dataset/train/Viral Pneumonia/072.jpeg 1260 1029\n",
            "/home/guilherme/code/python/Covid19_CNN/dataset/Covid19-dataset/train/Viral Pneumonia/034.jpeg 1392 1008\n",
            "/home/guilherme/code/python/Covid19_CNN/dataset/Covid19-dataset/train/Viral Pneumonia/022.jpeg 1432 1024\n",
            "/home/guilherme/code/python/Covid19_CNN/dataset/Covid19-dataset/train/Viral Pneumonia/065.jpeg 1232 888\n",
            "/home/guilherme/code/python/Covid19_CNN/dataset/Covid19-dataset/train/Viral Pneumonia/055.jpeg 1400 1136\n",
            "/home/guilherme/code/python/Covid19_CNN/dataset/Covid19-dataset/train/Viral Pneumonia/012.jpeg 1216 936\n",
            "/home/guilherme/code/python/Covid19_CNN/dataset/Covid19-dataset/train/Viral Pneumonia/020.jpeg 1600 992\n",
            "/home/guilherme/code/python/Covid19_CNN/dataset/Covid19-dataset/train/Viral Pneumonia/037.jpeg 1320 1208\n",
            "/home/guilherme/code/python/Covid19_CNN/dataset/Covid19-dataset/train/Viral Pneumonia/038.jpeg 1296 880\n",
            "/home/guilherme/code/python/Covid19_CNN/dataset/Covid19-dataset/train/Viral Pneumonia/010.jpeg 1624 1104\n",
            "/home/guilherme/code/python/Covid19_CNN/dataset/Covid19-dataset/train/Viral Pneumonia/033.jpeg 1336 1024\n",
            "/home/guilherme/code/python/Covid19_CNN/dataset/Covid19-dataset/train/Viral Pneumonia/066.jpeg 1592 1000\n",
            "/home/guilherme/code/python/Covid19_CNN/dataset/Covid19-dataset/train/Normal/076.jpeg 1952 1600\n",
            "/home/guilherme/code/python/Covid19_CNN/dataset/Covid19-dataset/train/Normal/057.jpeg 2426 2076\n",
            "/home/guilherme/code/python/Covid19_CNN/dataset/Covid19-dataset/train/Normal/077.jpeg 2010 1705\n",
            "/home/guilherme/code/python/Covid19_CNN/dataset/Covid19-dataset/train/Normal/011.jpeg 2522 2124\n",
            "/home/guilherme/code/python/Covid19_CNN/dataset/Covid19-dataset/train/Normal/05.jpeg 2667 2280\n",
            "/home/guilherme/code/python/Covid19_CNN/dataset/Covid19-dataset/train/Normal/018.jpeg 2216 1953\n",
            "/home/guilherme/code/python/Covid19_CNN/dataset/Covid19-dataset/train/Normal/096.jpeg 2093 1764\n",
            "/home/guilherme/code/python/Covid19_CNN/dataset/Covid19-dataset/train/Normal/081.jpeg 2496 2296\n",
            "/home/guilherme/code/python/Covid19_CNN/dataset/Covid19-dataset/train/Normal/058.jpeg 1984 1559\n",
            "/home/guilherme/code/python/Covid19_CNN/dataset/Covid19-dataset/train/Normal/053.jpeg 2001 1725\n",
            "/home/guilherme/code/python/Covid19_CNN/dataset/Covid19-dataset/train/Normal/015.jpeg 2752 1882\n",
            "/home/guilherme/code/python/Covid19_CNN/dataset/Covid19-dataset/train/Normal/013.jpeg 2297 2032\n",
            "/home/guilherme/code/python/Covid19_CNN/dataset/Covid19-dataset/train/Normal/067.jpeg 2366 2152\n",
            "/home/guilherme/code/python/Covid19_CNN/dataset/Covid19-dataset/train/Normal/093.jpeg 2517 1979\n",
            "/home/guilherme/code/python/Covid19_CNN/dataset/Covid19-dataset/train/Normal/068.jpeg 2474 2224\n",
            "/home/guilherme/code/python/Covid19_CNN/dataset/Covid19-dataset/train/Normal/03.jpeg 2720 2458\n",
            "/home/guilherme/code/python/Covid19_CNN/dataset/Covid19-dataset/train/Normal/069.jpeg 2244 2030\n",
            "/home/guilherme/code/python/Covid19_CNN/dataset/Covid19-dataset/train/Normal/080.jpeg 2381 1965\n",
            "/home/guilherme/code/python/Covid19_CNN/dataset/Covid19-dataset/train/Normal/083.jpeg 2517 2310\n",
            "/home/guilherme/code/python/Covid19_CNN/dataset/Covid19-dataset/train/Normal/063.jpeg 1852 1443\n",
            "/home/guilherme/code/python/Covid19_CNN/dataset/Covid19-dataset/train/Normal/073.jpeg 2028 1538\n",
            "/home/guilherme/code/python/Covid19_CNN/dataset/Covid19-dataset/train/Normal/070.jpeg 1873 1478\n",
            "/home/guilherme/code/python/Covid19_CNN/dataset/Covid19-dataset/train/Normal/086.jpeg 2040 1619\n",
            "/home/guilherme/code/python/Covid19_CNN/dataset/Covid19-dataset/train/Normal/071.jpeg 1741 1504\n",
            "/home/guilherme/code/python/Covid19_CNN/dataset/Covid19-dataset/train/Normal/016.jpeg 2624 1893\n",
            "/home/guilherme/code/python/Covid19_CNN/dataset/Covid19-dataset/train/Normal/050.jpeg 2053 1818\n",
            "/home/guilherme/code/python/Covid19_CNN/dataset/Covid19-dataset/train/Normal/085.jpeg 2060 1558\n",
            "/home/guilherme/code/python/Covid19_CNN/dataset/Covid19-dataset/train/Normal/084.jpeg 2034 1761\n",
            "/home/guilherme/code/python/Covid19_CNN/dataset/Covid19-dataset/train/Normal/023.jpeg 2214 1945\n",
            "/home/guilherme/code/python/Covid19_CNN/dataset/Covid19-dataset/train/Normal/088.jpeg 2148 1600\n",
            "/home/guilherme/code/python/Covid19_CNN/dataset/Covid19-dataset/train/Normal/074.jpeg 1970 2085\n",
            "/home/guilherme/code/python/Covid19_CNN/dataset/Covid19-dataset/train/Normal/097.jpeg 1940 1489\n",
            "/home/guilherme/code/python/Covid19_CNN/dataset/Covid19-dataset/train/Normal/051.jpeg 2153 1793\n",
            "/home/guilherme/code/python/Covid19_CNN/dataset/Covid19-dataset/train/Normal/04.jpeg 1742 1372\n",
            "/home/guilherme/code/python/Covid19_CNN/dataset/Covid19-dataset/train/Normal/014.jpeg 2380 2074\n",
            "/home/guilherme/code/python/Covid19_CNN/dataset/Covid19-dataset/train/Normal/075.jpeg 1917 1432\n",
            "/home/guilherme/code/python/Covid19_CNN/dataset/Covid19-dataset/train/Normal/01.jpeg 1944 1708\n",
            "/home/guilherme/code/python/Covid19_CNN/dataset/Covid19-dataset/train/Normal/06.jpeg 2480 2329\n",
            "/home/guilherme/code/python/Covid19_CNN/dataset/Covid19-dataset/train/Normal/07.jpeg 1802 1422\n",
            "/home/guilherme/code/python/Covid19_CNN/dataset/Covid19-dataset/train/Normal/061.jpeg 2111 1509\n",
            "/home/guilherme/code/python/Covid19_CNN/dataset/Covid19-dataset/train/Normal/052.jpeg 1863 1785\n",
            "/home/guilherme/code/python/Covid19_CNN/dataset/Covid19-dataset/train/Normal/019.jpeg 2170 1953\n",
            "/home/guilherme/code/python/Covid19_CNN/dataset/Covid19-dataset/train/Normal/060.jpeg 1949 1632\n",
            "/home/guilherme/code/python/Covid19_CNN/dataset/Covid19-dataset/train/Normal/056.jpeg 2096 1709\n",
            "/home/guilherme/code/python/Covid19_CNN/dataset/Covid19-dataset/train/Normal/092.jpeg 1894 1597\n",
            "/home/guilherme/code/python/Covid19_CNN/dataset/Covid19-dataset/train/Normal/059.jpeg 2266 1843\n",
            "/home/guilherme/code/python/Covid19_CNN/dataset/Covid19-dataset/train/Normal/024.jpeg 2024 1836\n",
            "/home/guilherme/code/python/Covid19_CNN/dataset/Covid19-dataset/train/Normal/025.jpeg 2031 1837\n",
            "/home/guilherme/code/python/Covid19_CNN/dataset/Covid19-dataset/train/Normal/094.jpeg 2517 1979\n",
            "/home/guilherme/code/python/Covid19_CNN/dataset/Covid19-dataset/train/Normal/021.jpeg 2271 1827\n",
            "/home/guilherme/code/python/Covid19_CNN/dataset/Covid19-dataset/train/Normal/082.jpeg 2446 2224\n",
            "/home/guilherme/code/python/Covid19_CNN/dataset/Covid19-dataset/train/Normal/095.jpeg 1647 1314\n",
            "/home/guilherme/code/python/Covid19_CNN/dataset/Covid19-dataset/train/Normal/09.jpeg 2444 2155\n",
            "/home/guilherme/code/python/Covid19_CNN/dataset/Covid19-dataset/train/Normal/064.jpeg 1960 1688\n",
            "/home/guilherme/code/python/Covid19_CNN/dataset/Covid19-dataset/train/Normal/054.jpeg 2517 2713\n",
            "/home/guilherme/code/python/Covid19_CNN/dataset/Covid19-dataset/train/Normal/062.jpeg 2431 2195\n",
            "/home/guilherme/code/python/Covid19_CNN/dataset/Covid19-dataset/train/Normal/02.jpeg 2746 2382\n",
            "/home/guilherme/code/python/Covid19_CNN/dataset/Covid19-dataset/train/Normal/079.jpeg 2251 1828\n",
            "/home/guilherme/code/python/Covid19_CNN/dataset/Covid19-dataset/train/Normal/08.jpeg 2343 2139\n",
            "/home/guilherme/code/python/Covid19_CNN/dataset/Covid19-dataset/train/Normal/072.jpeg 2345 1936\n",
            "/home/guilherme/code/python/Covid19_CNN/dataset/Covid19-dataset/train/Normal/087.jpeg 1803 1238\n",
            "/home/guilherme/code/python/Covid19_CNN/dataset/Covid19-dataset/train/Normal/022.jpeg 2144 1916\n",
            "/home/guilherme/code/python/Covid19_CNN/dataset/Covid19-dataset/train/Normal/091.jpeg 2043 2087\n",
            "/home/guilherme/code/python/Covid19_CNN/dataset/Covid19-dataset/train/Normal/065.jpeg 2022 1384\n",
            "/home/guilherme/code/python/Covid19_CNN/dataset/Covid19-dataset/train/Normal/055.jpeg 1534 1063\n",
            "/home/guilherme/code/python/Covid19_CNN/dataset/Covid19-dataset/train/Normal/012.jpeg 2498 2057\n",
            "/home/guilherme/code/python/Covid19_CNN/dataset/Covid19-dataset/train/Normal/020.jpeg 2170 1953\n",
            "/home/guilherme/code/python/Covid19_CNN/dataset/Covid19-dataset/train/Normal/010.jpeg 1600 1264\n",
            "/home/guilherme/code/python/Covid19_CNN/dataset/Covid19-dataset/train/Normal/066.jpeg 2226 1731\n",
            "/home/guilherme/code/python/Covid19_CNN/dataset/Covid19-dataset/train/Normal/017.jpeg 2022 2071\n",
            "Largest: width 4248 and height 4095\n",
            "Mean values: width 1717.9721115537848 and height 1439.98406374502\n"
          ]
        }
      ],
      "source": [
        "# Checking Biggest Image Sizes\n",
        "from glob import glob\n",
        "from setup import DATA_PATH\n",
        "import os\n",
        "from PIL import Image\n",
        "imgs = glob(os.path.join(DATA_PATH, 'train', '*', '*.jpg'), recursive=True) + glob(os.path.join(DATA_PATH, 'train', '*', '*.png'), recursive=True) + glob(os.path.join(DATA_PATH, 'train', '*', '*.jpeg'), recursive=True)\n",
        "\n",
        "widths = []\n",
        "heights = []\n",
        "\n",
        "#print(imgs)\n",
        "\n",
        "for img in imgs:\n",
        "    pil_image = Image.open(img)\n",
        "    print(img, pil_image.width, pil_image.height)\n",
        "    widths.append(pil_image.width)\n",
        "    heights.append(pil_image.height)\n",
        "\n",
        "print(f'Largest: width {max(widths)} and height {max(heights)}')\n",
        "print(f'Mean values: width {sum(widths)/len(widths)} and height {sum(heights)/len(heights)}')"
      ]
    },
    {
      "cell_type": "code",
      "execution_count": 5,
      "metadata": {
        "collapsed": true,
        "id": "SC6mfpKLznRZ"
      },
      "outputs": [],
      "source": [
        "from torchvision import datasets, transforms\n",
        "from setup import IMAGE_WIDTH, IMAGE_HEIGHT\n",
        "from data.loading import load_data\n",
        "from math import ceil\n",
        "\n",
        "transform = transforms.Compose([transforms.Resize(size=(IMAGE_WIDTH, IMAGE_HEIGHT)), transforms.ToTensor(), transforms.Normalize([0.5, 0.5, 0.5], std=[0.5, 0.5, 0.5])])\n",
        "train_ds, test_ds = load_data(transform)\n",
        "\n",
        "NUM_IMGS = len(train_ds.imgs)\n",
        "NUM_BATCHES = ceil(NUM_IMGS/setup.BATCH_SIZE)\n"
      ]
    },
    {
      "cell_type": "markdown",
      "metadata": {
        "id": "rbBdZIjn_JiO"
      },
      "source": [
        "We might not have to create a custom dataset, because we can use ImageFolder to create a dataset from an image folder with an organized structure. It will automatically associate the class names to images according to folder names.\n",
        "\n",
        "https://debuggercafe.com/pytorch-imagefolder-for-training-cnn-models/"
      ]
    },
    {
      "cell_type": "code",
      "execution_count": 6,
      "metadata": {
        "id": "Ma8J4ySR0xkg"
      },
      "outputs": [],
      "source": [
        "from torch.utils.data import Dataset, DataLoader\n",
        "import torch\n",
        "from setup import BATCH_SIZE\n",
        "\n",
        "\n",
        "loader = DataLoader(\n",
        "    dataset=train_ds,\n",
        "    batch_size=BATCH_SIZE,\n",
        "    shuffle=True,\n",
        "    num_workers=2\n",
        ")\n",
        "\n",
        "iterable_ds = iter(loader)\n"
      ]
    },
    {
      "cell_type": "markdown",
      "metadata": {
        "id": "ljsUITP1Dype"
      },
      "source": [
        "Images loaded are of different sizes, which would cause a\n",
        "```\n",
        "RuntimeError: stack expects each tensor to be equal size, but got [3, 3480, 4248] at entry 0 and [3, 1303, 1458] at entry 1\n",
        "\n",
        "```\n",
        "\n",
        "We can fix that by assuring all images are of the same size. Use a transform for that.\n",
        "\n",
        "https://discuss.pytorch.org/t/runtimeerror-stack-expects-each-tensor-to-be-equal-size-but-got-3-224-224-at-entry-0-and-3-224-336-at-entry-3/87211"
      ]
    },
    {
      "cell_type": "markdown",
      "metadata": {
        "id": "XplHOEmvGGkZ"
      },
      "source": [
        "Apparently, we can normalize the channels to make sure brighter colors won't be of more importance. Use a transform for that.\n",
        "\n",
        "https://stats.stackexchange.com/questions/211436/why-normalize-images-by-subtracting-datasets-image-mean-instead-of-the-current"
      ]
    },
    {
      "cell_type": "markdown",
      "metadata": {
        "id": "SXadZTFgSVPC"
      },
      "source": [
        "# Analyzing Data"
      ]
    },
    {
      "cell_type": "code",
      "execution_count": 7,
      "metadata": {
        "colab": {
          "base_uri": "https://localhost:8080/",
          "height": 588
        },
        "id": "8x5YkmOqSaMa",
        "outputId": "8079a354-9a05-447a-a1e9-9a5475f50f8d"
      },
      "outputs": [
        {
          "data": {
            "image/png": "[encoded data removed]",
            "text/plain": [
              "<Figure size 640x480 with 1 Axes>"
            ]
          },
          "metadata": {},
          "output_type": "display_data"
        },
        {
          "data": {
            "application/vnd.microsoft.datawrangler.viewer.v0+json": {
              "columns": [
                {
                  "name": "Class",
                  "rawType": "int64",
                  "type": "integer"
                },
                {
                  "name": "Img_Uri",
                  "rawType": "int64",
                  "type": "integer"
                }
              ],
              "ref": "01468b82-485c-40f0-a665-0a1cac7fe32d",
              "rows": [
                [
                  "0",
                  "111"
                ],
                [
                  "1",
                  "70"
                ],
                [
                  "2",
                  "70"
                ]
              ],
              "shape": {
                "columns": 1,
                "rows": 3
              }
            },
            "text/html": [
              "<div>\n",
              "<style scoped>\n",
              "    .dataframe tbody tr th:only-of-type {\n",
              "        vertical-align: middle;\n",
              "    }\n",
              "\n",
              "    .dataframe tbody tr th {\n",
              "        vertical-align: top;\n",
              "    }\n",
              "\n",
              "    .dataframe thead th {\n",
              "        text-align: right;\n",
              "    }\n",
              "</style>\n",
              "<table border=\"1\" class=\"dataframe\">\n",
              "  <thead>\n",
              "    <tr style=\"text-align: right;\">\n",
              "      <th></th>\n",
              "      <th>Img_Uri</th>\n",
              "    </tr>\n",
              "    <tr>\n",
              "      <th>Class</th>\n",
              "      <th></th>\n",
              "    </tr>\n",
              "  </thead>\n",
              "  <tbody>\n",
              "    <tr>\n",
              "      <th>0</th>\n",
              "      <td>111</td>\n",
              "    </tr>\n",
              "    <tr>\n",
              "      <th>1</th>\n",
              "      <td>70</td>\n",
              "    </tr>\n",
              "    <tr>\n",
              "      <th>2</th>\n",
              "      <td>70</td>\n",
              "    </tr>\n",
              "  </tbody>\n",
              "</table>\n",
              "</div>"
            ],
            "text/plain": [
              "       Img_Uri\n",
              "Class         \n",
              "0          111\n",
              "1           70\n",
              "2           70"
            ]
          },
          "execution_count": 7,
          "metadata": {},
          "output_type": "execute_result"
        }
      ],
      "source": [
        "import matplotlib.pyplot as plt\n",
        "import pandas as pd\n",
        "\n",
        "df = pd.DataFrame(train_ds.imgs)\n",
        "df = df.rename(columns={0: 'Img_Uri', 1: 'Class'})\n",
        "classes = df.loc[:, 'Class']\n",
        "\n",
        "plt.hist(classes)\n",
        "plt.xticks([0, 1, 2], labels=train_ds.classes)\n",
        "plt.show()\n",
        "\n",
        "df.groupby(['Class']).count()"
      ]
    },
    {
      "cell_type": "code",
      "execution_count": 8,
      "metadata": {
        "colab": {
          "base_uri": "https://localhost:8080/",
          "height": 424
        },
        "id": "X8WXzu99a21d",
        "outputId": "fa1f77b2-5af6-4412-ab11-5f7ab9009fb5"
      },
      "outputs": [
        {
          "data": {
            "application/vnd.microsoft.datawrangler.viewer.v0+json": {
              "columns": [
                {
                  "name": "index",
                  "rawType": "int64",
                  "type": "integer"
                },
                {
                  "name": "Img_Uri",
                  "rawType": "object",
                  "type": "string"
                },
                {
                  "name": "Class",
                  "rawType": "int64",
                  "type": "integer"
                }
              ],
              "ref": "58399872-281a-448a-b138-e7d9143ed192",
              "rows": [
                [
                  "0",
                  "/home/guilherme/code/python/Covid19_CNN/dataset/Covid19-dataset/train/Covid/01.jpeg",
                  "0"
                ],
                [
                  "1",
                  "/home/guilherme/code/python/Covid19_CNN/dataset/Covid19-dataset/train/Covid/010.png",
                  "0"
                ],
                [
                  "2",
                  "/home/guilherme/code/python/Covid19_CNN/dataset/Covid19-dataset/train/Covid/012.jpeg",
                  "0"
                ],
                [
                  "3",
                  "/home/guilherme/code/python/Covid19_CNN/dataset/Covid19-dataset/train/Covid/015.jpg",
                  "0"
                ],
                [
                  "4",
                  "/home/guilherme/code/python/Covid19_CNN/dataset/Covid19-dataset/train/Covid/019.png",
                  "0"
                ],
                [
                  "5",
                  "/home/guilherme/code/python/Covid19_CNN/dataset/Covid19-dataset/train/Covid/02.jpeg",
                  "0"
                ],
                [
                  "6",
                  "/home/guilherme/code/python/Covid19_CNN/dataset/Covid19-dataset/train/Covid/020.jpg",
                  "0"
                ],
                [
                  "7",
                  "/home/guilherme/code/python/Covid19_CNN/dataset/Covid19-dataset/train/Covid/021.jpeg",
                  "0"
                ],
                [
                  "8",
                  "/home/guilherme/code/python/Covid19_CNN/dataset/Covid19-dataset/train/Covid/022.jpeg",
                  "0"
                ],
                [
                  "9",
                  "/home/guilherme/code/python/Covid19_CNN/dataset/Covid19-dataset/train/Covid/024.jpeg",
                  "0"
                ],
                [
                  "10",
                  "/home/guilherme/code/python/Covid19_CNN/dataset/Covid19-dataset/train/Covid/025.jpeg",
                  "0"
                ],
                [
                  "11",
                  "/home/guilherme/code/python/Covid19_CNN/dataset/Covid19-dataset/train/Covid/026.jpeg",
                  "0"
                ],
                [
                  "12",
                  "/home/guilherme/code/python/Covid19_CNN/dataset/Covid19-dataset/train/Covid/027.jpeg",
                  "0"
                ],
                [
                  "13",
                  "/home/guilherme/code/python/Covid19_CNN/dataset/Covid19-dataset/train/Covid/03.jpeg",
                  "0"
                ],
                [
                  "14",
                  "/home/guilherme/code/python/Covid19_CNN/dataset/Covid19-dataset/train/Covid/031.jpeg",
                  "0"
                ],
                [
                  "15",
                  "/home/guilherme/code/python/Covid19_CNN/dataset/Covid19-dataset/train/Covid/032.jpeg",
                  "0"
                ],
                [
                  "16",
                  "/home/guilherme/code/python/Covid19_CNN/dataset/Covid19-dataset/train/Covid/033.png",
                  "0"
                ],
                [
                  "17",
                  "/home/guilherme/code/python/Covid19_CNN/dataset/Covid19-dataset/train/Covid/039.jpeg",
                  "0"
                ],
                [
                  "18",
                  "/home/guilherme/code/python/Covid19_CNN/dataset/Covid19-dataset/train/Covid/04.png",
                  "0"
                ],
                [
                  "19",
                  "/home/guilherme/code/python/Covid19_CNN/dataset/Covid19-dataset/train/Covid/040.jpeg",
                  "0"
                ],
                [
                  "20",
                  "/home/guilherme/code/python/Covid19_CNN/dataset/Covid19-dataset/train/Covid/041.jpeg",
                  "0"
                ],
                [
                  "21",
                  "/home/guilherme/code/python/Covid19_CNN/dataset/Covid19-dataset/train/Covid/042.jpeg",
                  "0"
                ],
                [
                  "22",
                  "/home/guilherme/code/python/Covid19_CNN/dataset/Covid19-dataset/train/Covid/043.jpeg",
                  "0"
                ],
                [
                  "23",
                  "/home/guilherme/code/python/Covid19_CNN/dataset/Covid19-dataset/train/Covid/044.jpeg",
                  "0"
                ],
                [
                  "24",
                  "/home/guilherme/code/python/Covid19_CNN/dataset/Covid19-dataset/train/Covid/045.jpeg",
                  "0"
                ],
                [
                  "25",
                  "/home/guilherme/code/python/Covid19_CNN/dataset/Covid19-dataset/train/Covid/046.jpeg",
                  "0"
                ],
                [
                  "26",
                  "/home/guilherme/code/python/Covid19_CNN/dataset/Covid19-dataset/train/Covid/047.jpeg",
                  "0"
                ],
                [
                  "27",
                  "/home/guilherme/code/python/Covid19_CNN/dataset/Covid19-dataset/train/Covid/048.jpeg",
                  "0"
                ],
                [
                  "28",
                  "/home/guilherme/code/python/Covid19_CNN/dataset/Covid19-dataset/train/Covid/049.jpeg",
                  "0"
                ],
                [
                  "29",
                  "/home/guilherme/code/python/Covid19_CNN/dataset/Covid19-dataset/train/Covid/050.jpeg",
                  "0"
                ],
                [
                  "30",
                  "/home/guilherme/code/python/Covid19_CNN/dataset/Covid19-dataset/train/Covid/051.jpeg",
                  "0"
                ],
                [
                  "31",
                  "/home/guilherme/code/python/Covid19_CNN/dataset/Covid19-dataset/train/Covid/052.jpeg",
                  "0"
                ],
                [
                  "32",
                  "/home/guilherme/code/python/Covid19_CNN/dataset/Covid19-dataset/train/Covid/053.jpeg",
                  "0"
                ],
                [
                  "33",
                  "/home/guilherme/code/python/Covid19_CNN/dataset/Covid19-dataset/train/Covid/054.jpeg",
                  "0"
                ],
                [
                  "34",
                  "/home/guilherme/code/python/Covid19_CNN/dataset/Covid19-dataset/train/Covid/055.jpeg",
                  "0"
                ],
                [
                  "35",
                  "/home/guilherme/code/python/Covid19_CNN/dataset/Covid19-dataset/train/Covid/056.jpg",
                  "0"
                ],
                [
                  "36",
                  "/home/guilherme/code/python/Covid19_CNN/dataset/Covid19-dataset/train/Covid/057.jpeg",
                  "0"
                ],
                [
                  "37",
                  "/home/guilherme/code/python/Covid19_CNN/dataset/Covid19-dataset/train/Covid/058.jpeg",
                  "0"
                ],
                [
                  "38",
                  "/home/guilherme/code/python/Covid19_CNN/dataset/Covid19-dataset/train/Covid/059.jpeg",
                  "0"
                ],
                [
                  "39",
                  "/home/guilherme/code/python/Covid19_CNN/dataset/Covid19-dataset/train/Covid/06.jpeg",
                  "0"
                ],
                [
                  "40",
                  "/home/guilherme/code/python/Covid19_CNN/dataset/Covid19-dataset/train/Covid/060.jpeg",
                  "0"
                ],
                [
                  "41",
                  "/home/guilherme/code/python/Covid19_CNN/dataset/Covid19-dataset/train/Covid/061.jpg",
                  "0"
                ],
                [
                  "42",
                  "/home/guilherme/code/python/Covid19_CNN/dataset/Covid19-dataset/train/Covid/062.jpeg",
                  "0"
                ],
                [
                  "43",
                  "/home/guilherme/code/python/Covid19_CNN/dataset/Covid19-dataset/train/Covid/064.jpg",
                  "0"
                ],
                [
                  "44",
                  "/home/guilherme/code/python/Covid19_CNN/dataset/Covid19-dataset/train/Covid/065.jpeg",
                  "0"
                ],
                [
                  "45",
                  "/home/guilherme/code/python/Covid19_CNN/dataset/Covid19-dataset/train/Covid/067.jpg",
                  "0"
                ],
                [
                  "46",
                  "/home/guilherme/code/python/Covid19_CNN/dataset/Covid19-dataset/train/Covid/068.jpg",
                  "0"
                ],
                [
                  "47",
                  "/home/guilherme/code/python/Covid19_CNN/dataset/Covid19-dataset/train/Covid/069.jpg",
                  "0"
                ],
                [
                  "48",
                  "/home/guilherme/code/python/Covid19_CNN/dataset/Covid19-dataset/train/Covid/07.jpg",
                  "0"
                ],
                [
                  "49",
                  "/home/guilherme/code/python/Covid19_CNN/dataset/Covid19-dataset/train/Covid/071.jpg",
                  "0"
                ]
              ],
              "shape": {
                "columns": 2,
                "rows": 251
              }
            },
            "text/html": [
              "<div>\n",
              "<style scoped>\n",
              "    .dataframe tbody tr th:only-of-type {\n",
              "        vertical-align: middle;\n",
              "    }\n",
              "\n",
              "    .dataframe tbody tr th {\n",
              "        vertical-align: top;\n",
              "    }\n",
              "\n",
              "    .dataframe thead th {\n",
              "        text-align: right;\n",
              "    }\n",
              "</style>\n",
              "<table border=\"1\" class=\"dataframe\">\n",
              "  <thead>\n",
              "    <tr style=\"text-align: right;\">\n",
              "      <th></th>\n",
              "      <th>Img_Uri</th>\n",
              "      <th>Class</th>\n",
              "    </tr>\n",
              "  </thead>\n",
              "  <tbody>\n",
              "    <tr>\n",
              "      <th>0</th>\n",
              "      <td>/home/guilherme/code/python/Covid19_CNN/datase...</td>\n",
              "      <td>0</td>\n",
              "    </tr>\n",
              "    <tr>\n",
              "      <th>1</th>\n",
              "      <td>/home/guilherme/code/python/Covid19_CNN/datase...</td>\n",
              "      <td>0</td>\n",
              "    </tr>\n",
              "    <tr>\n",
              "      <th>2</th>\n",
              "      <td>/home/guilherme/code/python/Covid19_CNN/datase...</td>\n",
              "      <td>0</td>\n",
              "    </tr>\n",
              "    <tr>\n",
              "      <th>3</th>\n",
              "      <td>/home/guilherme/code/python/Covid19_CNN/datase...</td>\n",
              "      <td>0</td>\n",
              "    </tr>\n",
              "    <tr>\n",
              "      <th>4</th>\n",
              "      <td>/home/guilherme/code/python/Covid19_CNN/datase...</td>\n",
              "      <td>0</td>\n",
              "    </tr>\n",
              "    <tr>\n",
              "      <th>...</th>\n",
              "      <td>...</td>\n",
              "      <td>...</td>\n",
              "    </tr>\n",
              "    <tr>\n",
              "      <th>246</th>\n",
              "      <td>/home/guilherme/code/python/Covid19_CNN/datase...</td>\n",
              "      <td>2</td>\n",
              "    </tr>\n",
              "    <tr>\n",
              "      <th>247</th>\n",
              "      <td>/home/guilherme/code/python/Covid19_CNN/datase...</td>\n",
              "      <td>2</td>\n",
              "    </tr>\n",
              "    <tr>\n",
              "      <th>248</th>\n",
              "      <td>/home/guilherme/code/python/Covid19_CNN/datase...</td>\n",
              "      <td>2</td>\n",
              "    </tr>\n",
              "    <tr>\n",
              "      <th>249</th>\n",
              "      <td>/home/guilherme/code/python/Covid19_CNN/datase...</td>\n",
              "      <td>2</td>\n",
              "    </tr>\n",
              "    <tr>\n",
              "      <th>250</th>\n",
              "      <td>/home/guilherme/code/python/Covid19_CNN/datase...</td>\n",
              "      <td>2</td>\n",
              "    </tr>\n",
              "  </tbody>\n",
              "</table>\n",
              "<p>251 rows × 2 columns</p>\n",
              "</div>"
            ],
            "text/plain": [
              "                                               Img_Uri  Class\n",
              "0    /home/guilherme/code/python/Covid19_CNN/datase...      0\n",
              "1    /home/guilherme/code/python/Covid19_CNN/datase...      0\n",
              "2    /home/guilherme/code/python/Covid19_CNN/datase...      0\n",
              "3    /home/guilherme/code/python/Covid19_CNN/datase...      0\n",
              "4    /home/guilherme/code/python/Covid19_CNN/datase...      0\n",
              "..                                                 ...    ...\n",
              "246  /home/guilherme/code/python/Covid19_CNN/datase...      2\n",
              "247  /home/guilherme/code/python/Covid19_CNN/datase...      2\n",
              "248  /home/guilherme/code/python/Covid19_CNN/datase...      2\n",
              "249  /home/guilherme/code/python/Covid19_CNN/datase...      2\n",
              "250  /home/guilherme/code/python/Covid19_CNN/datase...      2\n",
              "\n",
              "[251 rows x 2 columns]"
            ]
          },
          "execution_count": 8,
          "metadata": {},
          "output_type": "execute_result"
        }
      ],
      "source": [
        "df"
      ]
    },
    {
      "cell_type": "markdown",
      "metadata": {
        "id": "3ll7akpnbn7D"
      },
      "source": [
        "# Modifying Data\n",
        "\n",
        "-> Undersampling"
      ]
    },
    {
      "cell_type": "code",
      "execution_count": 9,
      "metadata": {
        "colab": {
          "base_uri": "https://localhost:8080/"
        },
        "id": "kqUqQR4qbngG",
        "outputId": "be3a636d-89bd-4496-9569-4df23e1afdbb"
      },
      "outputs": [],
      "source": [
        "i = 0\n",
        "new_imgs = []\n",
        "for img in train_ds.imgs:\n",
        "  if img[1] == 0:\n",
        "    if i >= 70:\n",
        "      continue\n",
        "    i += 1\n",
        "\n",
        "  new_imgs.append(img)\n",
        "\n",
        "#train_ds.imgs = new_imgs\n",
        "\n",
        "#print(len(train_ds.imgs))\n",
        "#print(len(list(filter(lambda x: x[1] == 0, train_ds.imgs))))"
      ]
    },
    {
      "cell_type": "markdown",
      "metadata": {},
      "source": [
        "# Declaring Components\n",
        "\n",
        "- Model\n",
        "- Optimizer\n",
        "- Loss Function\n",
        "- Scheduler"
      ]
    },
    {
      "cell_type": "markdown",
      "metadata": {
        "id": "M2fMaPRP0t33"
      },
      "source": [
        "## Making Model"
      ]
    },
    {
      "cell_type": "code",
      "execution_count": 10,
      "metadata": {
        "id": "xPPWB5GjHqH2"
      },
      "outputs": [
        {
          "name": "stdout",
          "output_type": "stream",
          "text": [
            "Using fine tuning strategy.\n"
          ]
        },
        {
          "name": "stderr",
          "output_type": "stream",
          "text": [
            "/home/guilherme/code/python/Covid19_CNN/venv/lib/python3.12/site-packages/torchvision/models/_utils.py:208: UserWarning: The parameter 'pretrained' is deprecated since 0.13 and may be removed in the future, please use 'weights' instead.\n",
            "  warnings.warn(\n",
            "/home/guilherme/code/python/Covid19_CNN/venv/lib/python3.12/site-packages/torchvision/models/_utils.py:223: UserWarning: Arguments other than a weight enum or `None` for 'weights' are deprecated since 0.13 and may be removed in the future. The current behavior is equivalent to passing `weights=ResNet18_Weights.IMAGENET1K_V1`. You can also use `weights=ResNet18_Weights.DEFAULT` to get the most up-to-date weights.\n",
            "  warnings.warn(msg)\n"
          ]
        }
      ],
      "source": [
        "from torch import nn, softmax, relu\n",
        "from model.CNN_Model import CNN_Model\n",
        "from setup import IMAGE_HEIGHT, IMAGE_WIDTH, FINE_TUNE\n",
        "from torchvision.models import resnet18\n",
        "\n",
        "model = None\n",
        "\n",
        "if FINE_TUNE:\n",
        "    print(f'Using fine tuning strategy.')\n",
        "    # Based on: https://youtu.be/c36lUUr864M?si=nLzRzN_VFT8HSmiu\n",
        "    model = resnet18(pretrained=True)\n",
        "    for params in model.parameters():\n",
        "        params.requires_grad = False\n",
        "    model.fc = nn.Linear(in_features=model.fc.in_features, out_features=3) # adjusting last layer to fit our 3 classes\n",
        "else:\n",
        "    print(f'Using custom model.')\n",
        "    model = CNN_Model(image_size=(IMAGE_WIDTH, IMAGE_HEIGHT))"
      ]
    },
    {
      "cell_type": "markdown",
      "metadata": {
        "id": "HZWz0czDQNFc"
      },
      "source": [
        "## Setting Up Optimizer, Loss Function and Scheduler"
      ]
    },
    {
      "cell_type": "code",
      "execution_count": 11,
      "metadata": {
        "id": "O6CXjKTpQP1j"
      },
      "outputs": [],
      "source": [
        "optimizer = torch.optim.SGD(model.parameters(), lr=setup.LEARNING_RATE, momentum=0.9)\n",
        "loss = nn.CrossEntropyLoss()\n",
        "\n",
        "# Setting Up Scheduler\n",
        "from torch.optim import lr_scheduler\n",
        "\n",
        "scheduler = lr_scheduler.StepLR(\n",
        "    optimizer,\n",
        "    step_size=4,\n",
        "    gamma=0.1\n",
        ")"
      ]
    },
    {
      "cell_type": "markdown",
      "metadata": {
        "id": "-4Jbwh5FPl_K"
      },
      "source": [
        "# Training\n",
        "\n",
        "Apparently, to run on the GPU, we have to send the data itself to the GPU. We can do so with the batches. The loss function also needs the labels to be loaded on the GPU.\n",
        "\n",
        "https://discuss.pytorch.org/t/how-to-load-all-data-into-gpu-for-training/27609/22?page=2\n",
        "\n",
        "Also, we need the weights to be on the GPU. We can do that by using the model itself, sending it to the GPU as well.\n",
        "\n",
        "https://discuss.pytorch.org/t/how-to-load-all-data-into-gpu-for-training/27609/34?page=2"
      ]
    },
    {
      "cell_type": "code",
      "execution_count": 12,
      "metadata": {
        "id": "d8w-uHjaA5w9"
      },
      "outputs": [],
      "source": [
        "# GPU or CPU Device\n",
        "device = torch.device('cuda' if torch.cuda.is_available() else 'cpu')\n",
        "\n",
        "model = model.to(device=device)"
      ]
    },
    {
      "cell_type": "markdown",
      "metadata": {
        "id": "8_UsCHhuQFsn"
      },
      "source": [
        "Tqdm is a simple library that can be used to generate a loading bar on loops.\n",
        "\n",
        "https://github.com/tqdm/tqdm"
      ]
    },
    {
      "cell_type": "code",
      "execution_count": 13,
      "metadata": {
        "colab": {
          "base_uri": "https://localhost:8080/"
        },
        "id": "AUZNKPmvPhzn",
        "outputId": "63d21b6e-b5e1-424c-938b-47a3537112d3"
      },
      "outputs": [
        {
          "name": "stderr",
          "output_type": "stream",
          "text": [
            "Epoch 0: 100%|██████████| 26/26 [00:14<00:00,  1.85it/s]"
          ]
        },
        {
          "name": "stdout",
          "output_type": "stream",
          "text": [
            "Epoch 0 | Accuracy: 65.3386%\n",
            "Switching to model with accuracy of 65.3386%\n"
          ]
        },
        {
          "name": "stderr",
          "output_type": "stream",
          "text": [
            "\n"
          ]
        }
      ],
      "source": [
        "from model.train import train\n",
        "\n",
        "train(\n",
        "    model=model,\n",
        "    num_batches=NUM_BATCHES,\n",
        "    num_epochs=setup.NUM_EPOCHS,\n",
        "    device=device,\n",
        "    optimizer=optimizer,\n",
        "    scheduler=scheduler,\n",
        "    dataset=train_ds,\n",
        "    loss=loss,\n",
        "    num_imgs=NUM_IMGS\n",
        ")"
      ]
    },
    {
      "cell_type": "markdown",
      "metadata": {
        "id": "PzhkMeogcEKT"
      },
      "source": [
        "# Evaluation"
      ]
    },
    {
      "cell_type": "markdown",
      "metadata": {
        "id": "ijprcBF46cc1"
      },
      "source": [
        "Evaluating with Test Data"
      ]
    },
    {
      "cell_type": "code",
      "execution_count": 16,
      "metadata": {},
      "outputs": [
        {
          "name": "stderr",
          "output_type": "stream",
          "text": [
            "100%|██████████| 7/7 [00:32<00:00,  4.69s/it]"
          ]
        },
        {
          "name": "stdout",
          "output_type": "stream",
          "text": [
            "\n",
            "Accuracy: 31/66 | 46.9697%\n",
            "[[14  5  7]\n",
            " [ 3 12  5]\n",
            " [ 8  7  5]]\n"
          ]
        },
        {
          "name": "stderr",
          "output_type": "stream",
          "text": [
            "\n"
          ]
        }
      ],
      "source": [
        "from data.evaluation import evaluate_model\n",
        "\n",
        "model = model.eval()\n",
        "\n",
        "evaluate_model(model=model,\n",
        "               test_data=test_ds,\n",
        "               batch_size=BATCH_SIZE\n",
        "               )"
      ]
    },
    {
      "cell_type": "code",
      "execution_count": 15,
      "metadata": {
        "colab": {
          "base_uri": "https://localhost:8080/"
        },
        "id": "7i0zOnYMZ2oE",
        "outputId": "0eac389e-5149-4243-8ea1-14f9794196eb"
      },
      "outputs": [
        {
          "name": "stderr",
          "output_type": "stream",
          "text": [
            "  6%|▌         | 4/66 [00:02<00:37,  1.63it/s]\n"
          ]
        },
        {
          "ename": "KeyboardInterrupt",
          "evalue": "",
          "output_type": "error",
          "traceback": [
            "\u001b[31m---------------------------------------------------------------------------\u001b[39m",
            "\u001b[31mKeyboardInterrupt\u001b[39m                         Traceback (most recent call last)",
            "\u001b[36mCell\u001b[39m\u001b[36m \u001b[39m\u001b[32mIn[15]\u001b[39m\u001b[32m, line 5\u001b[39m\n\u001b[32m      1\u001b[39m \u001b[38;5;28;01mfrom\u001b[39;00m\u001b[38;5;250m \u001b[39m\u001b[34;01mdata\u001b[39;00m\u001b[34;01m.\u001b[39;00m\u001b[34;01mevaluation\u001b[39;00m\u001b[38;5;250m \u001b[39m\u001b[38;5;28;01mimport\u001b[39;00m evaluate_model\n\u001b[32m      3\u001b[39m model = model.eval()\n\u001b[32m----> \u001b[39m\u001b[32m5\u001b[39m \u001b[43mevaluate_model\u001b[49m\u001b[43m(\u001b[49m\u001b[43mmodel\u001b[49m\u001b[43m=\u001b[49m\u001b[43mmodel\u001b[49m\u001b[43m,\u001b[49m\n\u001b[32m      6\u001b[39m \u001b[43m               \u001b[49m\u001b[43mtest_data\u001b[49m\u001b[43m=\u001b[49m\u001b[43mtest_ds\u001b[49m\u001b[43m,\u001b[49m\n\u001b[32m      7\u001b[39m \u001b[43m               \u001b[49m\u001b[43mbatch_size\u001b[49m\u001b[43m=\u001b[49m\u001b[32;43m1\u001b[39;49m\n\u001b[32m      8\u001b[39m \u001b[43m               \u001b[49m\u001b[43m)\u001b[49m\n",
            "\u001b[36mFile \u001b[39m\u001b[32m~/code/python/Covid19_CNN/src/data/evaluation.py:34\u001b[39m, in \u001b[36mevaluate_model\u001b[39m\u001b[34m(model, test_data, batch_size)\u001b[39m\n\u001b[32m     32\u001b[39m batch = batch.cpu()\n\u001b[32m     33\u001b[39m labels = labels.cpu()\n\u001b[32m---> \u001b[39m\u001b[32m34\u001b[39m pred = torch.softmax(\u001b[43mmodel\u001b[49m\u001b[43m(\u001b[49m\u001b[43mbatch\u001b[49m\u001b[43m)\u001b[49m, dim=\u001b[32m0\u001b[39m) \u001b[38;5;66;03m# this will run softmax on each score, generating probabilities\u001b[39;00m\n\u001b[32m     35\u001b[39m pred_classes = torch.max(pred, dim=\u001b[32m1\u001b[39m).indices \u001b[38;5;66;03m# torch.max with dim=1 will run through every prediction and return the highest probability for that prediction.\u001b[39;00m\n\u001b[32m     36\u001b[39m \u001b[38;5;66;03m# the .indices will return the indices of thoses highest probabilities, which correspond to the classes.\u001b[39;00m\n",
            "\u001b[36mFile \u001b[39m\u001b[32m~/code/python/Covid19_CNN/venv/lib/python3.12/site-packages/torch/nn/modules/module.py:1773\u001b[39m, in \u001b[36mModule._wrapped_call_impl\u001b[39m\u001b[34m(self, *args, **kwargs)\u001b[39m\n\u001b[32m   1771\u001b[39m     \u001b[38;5;28;01mreturn\u001b[39;00m \u001b[38;5;28mself\u001b[39m._compiled_call_impl(*args, **kwargs)  \u001b[38;5;66;03m# type: ignore[misc]\u001b[39;00m\n\u001b[32m   1772\u001b[39m \u001b[38;5;28;01melse\u001b[39;00m:\n\u001b[32m-> \u001b[39m\u001b[32m1773\u001b[39m     \u001b[38;5;28;01mreturn\u001b[39;00m \u001b[38;5;28;43mself\u001b[39;49m\u001b[43m.\u001b[49m\u001b[43m_call_impl\u001b[49m\u001b[43m(\u001b[49m\u001b[43m*\u001b[49m\u001b[43margs\u001b[49m\u001b[43m,\u001b[49m\u001b[43m \u001b[49m\u001b[43m*\u001b[49m\u001b[43m*\u001b[49m\u001b[43mkwargs\u001b[49m\u001b[43m)\u001b[49m\n",
            "\u001b[36mFile \u001b[39m\u001b[32m~/code/python/Covid19_CNN/venv/lib/python3.12/site-packages/torch/nn/modules/module.py:1784\u001b[39m, in \u001b[36mModule._call_impl\u001b[39m\u001b[34m(self, *args, **kwargs)\u001b[39m\n\u001b[32m   1779\u001b[39m \u001b[38;5;66;03m# If we don't have any hooks, we want to skip the rest of the logic in\u001b[39;00m\n\u001b[32m   1780\u001b[39m \u001b[38;5;66;03m# this function, and just call forward.\u001b[39;00m\n\u001b[32m   1781\u001b[39m \u001b[38;5;28;01mif\u001b[39;00m \u001b[38;5;129;01mnot\u001b[39;00m (\u001b[38;5;28mself\u001b[39m._backward_hooks \u001b[38;5;129;01mor\u001b[39;00m \u001b[38;5;28mself\u001b[39m._backward_pre_hooks \u001b[38;5;129;01mor\u001b[39;00m \u001b[38;5;28mself\u001b[39m._forward_hooks \u001b[38;5;129;01mor\u001b[39;00m \u001b[38;5;28mself\u001b[39m._forward_pre_hooks\n\u001b[32m   1782\u001b[39m         \u001b[38;5;129;01mor\u001b[39;00m _global_backward_pre_hooks \u001b[38;5;129;01mor\u001b[39;00m _global_backward_hooks\n\u001b[32m   1783\u001b[39m         \u001b[38;5;129;01mor\u001b[39;00m _global_forward_hooks \u001b[38;5;129;01mor\u001b[39;00m _global_forward_pre_hooks):\n\u001b[32m-> \u001b[39m\u001b[32m1784\u001b[39m     \u001b[38;5;28;01mreturn\u001b[39;00m \u001b[43mforward_call\u001b[49m\u001b[43m(\u001b[49m\u001b[43m*\u001b[49m\u001b[43margs\u001b[49m\u001b[43m,\u001b[49m\u001b[43m \u001b[49m\u001b[43m*\u001b[49m\u001b[43m*\u001b[49m\u001b[43mkwargs\u001b[49m\u001b[43m)\u001b[49m\n\u001b[32m   1786\u001b[39m result = \u001b[38;5;28;01mNone\u001b[39;00m\n\u001b[32m   1787\u001b[39m called_always_called_hooks = \u001b[38;5;28mset\u001b[39m()\n",
            "\u001b[36mFile \u001b[39m\u001b[32m~/code/python/Covid19_CNN/venv/lib/python3.12/site-packages/torchvision/models/resnet.py:285\u001b[39m, in \u001b[36mResNet.forward\u001b[39m\u001b[34m(self, x)\u001b[39m\n\u001b[32m    284\u001b[39m \u001b[38;5;28;01mdef\u001b[39;00m\u001b[38;5;250m \u001b[39m\u001b[34mforward\u001b[39m(\u001b[38;5;28mself\u001b[39m, x: Tensor) -> Tensor:\n\u001b[32m--> \u001b[39m\u001b[32m285\u001b[39m     \u001b[38;5;28;01mreturn\u001b[39;00m \u001b[38;5;28;43mself\u001b[39;49m\u001b[43m.\u001b[49m\u001b[43m_forward_impl\u001b[49m\u001b[43m(\u001b[49m\u001b[43mx\u001b[49m\u001b[43m)\u001b[49m\n",
            "\u001b[36mFile \u001b[39m\u001b[32m~/code/python/Covid19_CNN/venv/lib/python3.12/site-packages/torchvision/models/resnet.py:274\u001b[39m, in \u001b[36mResNet._forward_impl\u001b[39m\u001b[34m(self, x)\u001b[39m\n\u001b[32m    271\u001b[39m x = \u001b[38;5;28mself\u001b[39m.maxpool(x)\n\u001b[32m    273\u001b[39m x = \u001b[38;5;28mself\u001b[39m.layer1(x)\n\u001b[32m--> \u001b[39m\u001b[32m274\u001b[39m x = \u001b[38;5;28;43mself\u001b[39;49m\u001b[43m.\u001b[49m\u001b[43mlayer2\u001b[49m\u001b[43m(\u001b[49m\u001b[43mx\u001b[49m\u001b[43m)\u001b[49m\n\u001b[32m    275\u001b[39m x = \u001b[38;5;28mself\u001b[39m.layer3(x)\n\u001b[32m    276\u001b[39m x = \u001b[38;5;28mself\u001b[39m.layer4(x)\n",
            "\u001b[36mFile \u001b[39m\u001b[32m~/code/python/Covid19_CNN/venv/lib/python3.12/site-packages/torch/nn/modules/module.py:1773\u001b[39m, in \u001b[36mModule._wrapped_call_impl\u001b[39m\u001b[34m(self, *args, **kwargs)\u001b[39m\n\u001b[32m   1771\u001b[39m     \u001b[38;5;28;01mreturn\u001b[39;00m \u001b[38;5;28mself\u001b[39m._compiled_call_impl(*args, **kwargs)  \u001b[38;5;66;03m# type: ignore[misc]\u001b[39;00m\n\u001b[32m   1772\u001b[39m \u001b[38;5;28;01melse\u001b[39;00m:\n\u001b[32m-> \u001b[39m\u001b[32m1773\u001b[39m     \u001b[38;5;28;01mreturn\u001b[39;00m \u001b[38;5;28;43mself\u001b[39;49m\u001b[43m.\u001b[49m\u001b[43m_call_impl\u001b[49m\u001b[43m(\u001b[49m\u001b[43m*\u001b[49m\u001b[43margs\u001b[49m\u001b[43m,\u001b[49m\u001b[43m \u001b[49m\u001b[43m*\u001b[49m\u001b[43m*\u001b[49m\u001b[43mkwargs\u001b[49m\u001b[43m)\u001b[49m\n",
            "\u001b[36mFile \u001b[39m\u001b[32m~/code/python/Covid19_CNN/venv/lib/python3.12/site-packages/torch/nn/modules/module.py:1784\u001b[39m, in \u001b[36mModule._call_impl\u001b[39m\u001b[34m(self, *args, **kwargs)\u001b[39m\n\u001b[32m   1779\u001b[39m \u001b[38;5;66;03m# If we don't have any hooks, we want to skip the rest of the logic in\u001b[39;00m\n\u001b[32m   1780\u001b[39m \u001b[38;5;66;03m# this function, and just call forward.\u001b[39;00m\n\u001b[32m   1781\u001b[39m \u001b[38;5;28;01mif\u001b[39;00m \u001b[38;5;129;01mnot\u001b[39;00m (\u001b[38;5;28mself\u001b[39m._backward_hooks \u001b[38;5;129;01mor\u001b[39;00m \u001b[38;5;28mself\u001b[39m._backward_pre_hooks \u001b[38;5;129;01mor\u001b[39;00m \u001b[38;5;28mself\u001b[39m._forward_hooks \u001b[38;5;129;01mor\u001b[39;00m \u001b[38;5;28mself\u001b[39m._forward_pre_hooks\n\u001b[32m   1782\u001b[39m         \u001b[38;5;129;01mor\u001b[39;00m _global_backward_pre_hooks \u001b[38;5;129;01mor\u001b[39;00m _global_backward_hooks\n\u001b[32m   1783\u001b[39m         \u001b[38;5;129;01mor\u001b[39;00m _global_forward_hooks \u001b[38;5;129;01mor\u001b[39;00m _global_forward_pre_hooks):\n\u001b[32m-> \u001b[39m\u001b[32m1784\u001b[39m     \u001b[38;5;28;01mreturn\u001b[39;00m \u001b[43mforward_call\u001b[49m\u001b[43m(\u001b[49m\u001b[43m*\u001b[49m\u001b[43margs\u001b[49m\u001b[43m,\u001b[49m\u001b[43m \u001b[49m\u001b[43m*\u001b[49m\u001b[43m*\u001b[49m\u001b[43mkwargs\u001b[49m\u001b[43m)\u001b[49m\n\u001b[32m   1786\u001b[39m result = \u001b[38;5;28;01mNone\u001b[39;00m\n\u001b[32m   1787\u001b[39m called_always_called_hooks = \u001b[38;5;28mset\u001b[39m()\n",
            "\u001b[36mFile \u001b[39m\u001b[32m~/code/python/Covid19_CNN/venv/lib/python3.12/site-packages/torch/nn/modules/container.py:244\u001b[39m, in \u001b[36mSequential.forward\u001b[39m\u001b[34m(self, input)\u001b[39m\n\u001b[32m    242\u001b[39m \u001b[38;5;28;01mdef\u001b[39;00m\u001b[38;5;250m \u001b[39m\u001b[34mforward\u001b[39m(\u001b[38;5;28mself\u001b[39m, \u001b[38;5;28minput\u001b[39m):\n\u001b[32m    243\u001b[39m     \u001b[38;5;28;01mfor\u001b[39;00m module \u001b[38;5;129;01min\u001b[39;00m \u001b[38;5;28mself\u001b[39m:\n\u001b[32m--> \u001b[39m\u001b[32m244\u001b[39m         \u001b[38;5;28minput\u001b[39m = \u001b[43mmodule\u001b[49m\u001b[43m(\u001b[49m\u001b[38;5;28;43minput\u001b[39;49m\u001b[43m)\u001b[49m\n\u001b[32m    245\u001b[39m     \u001b[38;5;28;01mreturn\u001b[39;00m \u001b[38;5;28minput\u001b[39m\n",
            "\u001b[36mFile \u001b[39m\u001b[32m~/code/python/Covid19_CNN/venv/lib/python3.12/site-packages/torch/nn/modules/module.py:1773\u001b[39m, in \u001b[36mModule._wrapped_call_impl\u001b[39m\u001b[34m(self, *args, **kwargs)\u001b[39m\n\u001b[32m   1771\u001b[39m     \u001b[38;5;28;01mreturn\u001b[39;00m \u001b[38;5;28mself\u001b[39m._compiled_call_impl(*args, **kwargs)  \u001b[38;5;66;03m# type: ignore[misc]\u001b[39;00m\n\u001b[32m   1772\u001b[39m \u001b[38;5;28;01melse\u001b[39;00m:\n\u001b[32m-> \u001b[39m\u001b[32m1773\u001b[39m     \u001b[38;5;28;01mreturn\u001b[39;00m \u001b[38;5;28;43mself\u001b[39;49m\u001b[43m.\u001b[49m\u001b[43m_call_impl\u001b[49m\u001b[43m(\u001b[49m\u001b[43m*\u001b[49m\u001b[43margs\u001b[49m\u001b[43m,\u001b[49m\u001b[43m \u001b[49m\u001b[43m*\u001b[49m\u001b[43m*\u001b[49m\u001b[43mkwargs\u001b[49m\u001b[43m)\u001b[49m\n",
            "\u001b[36mFile \u001b[39m\u001b[32m~/code/python/Covid19_CNN/venv/lib/python3.12/site-packages/torch/nn/modules/module.py:1784\u001b[39m, in \u001b[36mModule._call_impl\u001b[39m\u001b[34m(self, *args, **kwargs)\u001b[39m\n\u001b[32m   1779\u001b[39m \u001b[38;5;66;03m# If we don't have any hooks, we want to skip the rest of the logic in\u001b[39;00m\n\u001b[32m   1780\u001b[39m \u001b[38;5;66;03m# this function, and just call forward.\u001b[39;00m\n\u001b[32m   1781\u001b[39m \u001b[38;5;28;01mif\u001b[39;00m \u001b[38;5;129;01mnot\u001b[39;00m (\u001b[38;5;28mself\u001b[39m._backward_hooks \u001b[38;5;129;01mor\u001b[39;00m \u001b[38;5;28mself\u001b[39m._backward_pre_hooks \u001b[38;5;129;01mor\u001b[39;00m \u001b[38;5;28mself\u001b[39m._forward_hooks \u001b[38;5;129;01mor\u001b[39;00m \u001b[38;5;28mself\u001b[39m._forward_pre_hooks\n\u001b[32m   1782\u001b[39m         \u001b[38;5;129;01mor\u001b[39;00m _global_backward_pre_hooks \u001b[38;5;129;01mor\u001b[39;00m _global_backward_hooks\n\u001b[32m   1783\u001b[39m         \u001b[38;5;129;01mor\u001b[39;00m _global_forward_hooks \u001b[38;5;129;01mor\u001b[39;00m _global_forward_pre_hooks):\n\u001b[32m-> \u001b[39m\u001b[32m1784\u001b[39m     \u001b[38;5;28;01mreturn\u001b[39;00m \u001b[43mforward_call\u001b[49m\u001b[43m(\u001b[49m\u001b[43m*\u001b[49m\u001b[43margs\u001b[49m\u001b[43m,\u001b[49m\u001b[43m \u001b[49m\u001b[43m*\u001b[49m\u001b[43m*\u001b[49m\u001b[43mkwargs\u001b[49m\u001b[43m)\u001b[49m\n\u001b[32m   1786\u001b[39m result = \u001b[38;5;28;01mNone\u001b[39;00m\n\u001b[32m   1787\u001b[39m called_always_called_hooks = \u001b[38;5;28mset\u001b[39m()\n",
            "\u001b[36mFile \u001b[39m\u001b[32m~/code/python/Covid19_CNN/venv/lib/python3.12/site-packages/torchvision/models/resnet.py:94\u001b[39m, in \u001b[36mBasicBlock.forward\u001b[39m\u001b[34m(self, x)\u001b[39m\n\u001b[32m     92\u001b[39m out = \u001b[38;5;28mself\u001b[39m.conv1(x)\n\u001b[32m     93\u001b[39m out = \u001b[38;5;28mself\u001b[39m.bn1(out)\n\u001b[32m---> \u001b[39m\u001b[32m94\u001b[39m out = \u001b[38;5;28;43mself\u001b[39;49m\u001b[43m.\u001b[49m\u001b[43mrelu\u001b[49m\u001b[43m(\u001b[49m\u001b[43mout\u001b[49m\u001b[43m)\u001b[49m\n\u001b[32m     96\u001b[39m out = \u001b[38;5;28mself\u001b[39m.conv2(out)\n\u001b[32m     97\u001b[39m out = \u001b[38;5;28mself\u001b[39m.bn2(out)\n",
            "\u001b[36mFile \u001b[39m\u001b[32m~/code/python/Covid19_CNN/venv/lib/python3.12/site-packages/torch/nn/modules/module.py:1773\u001b[39m, in \u001b[36mModule._wrapped_call_impl\u001b[39m\u001b[34m(self, *args, **kwargs)\u001b[39m\n\u001b[32m   1771\u001b[39m     \u001b[38;5;28;01mreturn\u001b[39;00m \u001b[38;5;28mself\u001b[39m._compiled_call_impl(*args, **kwargs)  \u001b[38;5;66;03m# type: ignore[misc]\u001b[39;00m\n\u001b[32m   1772\u001b[39m \u001b[38;5;28;01melse\u001b[39;00m:\n\u001b[32m-> \u001b[39m\u001b[32m1773\u001b[39m     \u001b[38;5;28;01mreturn\u001b[39;00m \u001b[38;5;28;43mself\u001b[39;49m\u001b[43m.\u001b[49m\u001b[43m_call_impl\u001b[49m\u001b[43m(\u001b[49m\u001b[43m*\u001b[49m\u001b[43margs\u001b[49m\u001b[43m,\u001b[49m\u001b[43m \u001b[49m\u001b[43m*\u001b[49m\u001b[43m*\u001b[49m\u001b[43mkwargs\u001b[49m\u001b[43m)\u001b[49m\n",
            "\u001b[36mFile \u001b[39m\u001b[32m~/code/python/Covid19_CNN/venv/lib/python3.12/site-packages/torch/nn/modules/module.py:1784\u001b[39m, in \u001b[36mModule._call_impl\u001b[39m\u001b[34m(self, *args, **kwargs)\u001b[39m\n\u001b[32m   1779\u001b[39m \u001b[38;5;66;03m# If we don't have any hooks, we want to skip the rest of the logic in\u001b[39;00m\n\u001b[32m   1780\u001b[39m \u001b[38;5;66;03m# this function, and just call forward.\u001b[39;00m\n\u001b[32m   1781\u001b[39m \u001b[38;5;28;01mif\u001b[39;00m \u001b[38;5;129;01mnot\u001b[39;00m (\u001b[38;5;28mself\u001b[39m._backward_hooks \u001b[38;5;129;01mor\u001b[39;00m \u001b[38;5;28mself\u001b[39m._backward_pre_hooks \u001b[38;5;129;01mor\u001b[39;00m \u001b[38;5;28mself\u001b[39m._forward_hooks \u001b[38;5;129;01mor\u001b[39;00m \u001b[38;5;28mself\u001b[39m._forward_pre_hooks\n\u001b[32m   1782\u001b[39m         \u001b[38;5;129;01mor\u001b[39;00m _global_backward_pre_hooks \u001b[38;5;129;01mor\u001b[39;00m _global_backward_hooks\n\u001b[32m   1783\u001b[39m         \u001b[38;5;129;01mor\u001b[39;00m _global_forward_hooks \u001b[38;5;129;01mor\u001b[39;00m _global_forward_pre_hooks):\n\u001b[32m-> \u001b[39m\u001b[32m1784\u001b[39m     \u001b[38;5;28;01mreturn\u001b[39;00m \u001b[43mforward_call\u001b[49m\u001b[43m(\u001b[49m\u001b[43m*\u001b[49m\u001b[43margs\u001b[49m\u001b[43m,\u001b[49m\u001b[43m \u001b[49m\u001b[43m*\u001b[49m\u001b[43m*\u001b[49m\u001b[43mkwargs\u001b[49m\u001b[43m)\u001b[49m\n\u001b[32m   1786\u001b[39m result = \u001b[38;5;28;01mNone\u001b[39;00m\n\u001b[32m   1787\u001b[39m called_always_called_hooks = \u001b[38;5;28mset\u001b[39m()\n",
            "\u001b[36mFile \u001b[39m\u001b[32m~/code/python/Covid19_CNN/venv/lib/python3.12/site-packages/torch/nn/modules/activation.py:135\u001b[39m, in \u001b[36mReLU.forward\u001b[39m\u001b[34m(self, input)\u001b[39m\n\u001b[32m    134\u001b[39m \u001b[38;5;28;01mdef\u001b[39;00m\u001b[38;5;250m \u001b[39m\u001b[34mforward\u001b[39m(\u001b[38;5;28mself\u001b[39m, \u001b[38;5;28minput\u001b[39m: Tensor) -> Tensor:\n\u001b[32m--> \u001b[39m\u001b[32m135\u001b[39m     \u001b[38;5;28;01mreturn\u001b[39;00m \u001b[43mF\u001b[49m\u001b[43m.\u001b[49m\u001b[43mrelu\u001b[49m\u001b[43m(\u001b[49m\u001b[38;5;28;43minput\u001b[39;49m\u001b[43m,\u001b[49m\u001b[43m \u001b[49m\u001b[43minplace\u001b[49m\u001b[43m=\u001b[49m\u001b[38;5;28;43mself\u001b[39;49m\u001b[43m.\u001b[49m\u001b[43minplace\u001b[49m\u001b[43m)\u001b[49m\n",
            "\u001b[36mFile \u001b[39m\u001b[32m~/code/python/Covid19_CNN/venv/lib/python3.12/site-packages/torch/nn/functional.py:1699\u001b[39m, in \u001b[36mrelu\u001b[39m\u001b[34m(input, inplace)\u001b[39m\n\u001b[32m   1697\u001b[39m     \u001b[38;5;28;01mreturn\u001b[39;00m handle_torch_function(relu, (\u001b[38;5;28minput\u001b[39m,), \u001b[38;5;28minput\u001b[39m, inplace=inplace)\n\u001b[32m   1698\u001b[39m \u001b[38;5;28;01mif\u001b[39;00m inplace:\n\u001b[32m-> \u001b[39m\u001b[32m1699\u001b[39m     result = \u001b[43mtorch\u001b[49m\u001b[43m.\u001b[49m\u001b[43mrelu_\u001b[49m\u001b[43m(\u001b[49m\u001b[38;5;28;43minput\u001b[39;49m\u001b[43m)\u001b[49m\n\u001b[32m   1700\u001b[39m \u001b[38;5;28;01melse\u001b[39;00m:\n\u001b[32m   1701\u001b[39m     result = torch.relu(\u001b[38;5;28minput\u001b[39m)\n",
            "\u001b[31mKeyboardInterrupt\u001b[39m: "
          ]
        }
      ],
      "source": [
        "from data.evaluation import evaluate_model\n",
        "\n",
        "model = model.eval()\n",
        "\n",
        "evaluate_model(model=model,\n",
        "               test_data=test_ds,\n",
        "               batch_size=1\n",
        "               )\n"
      ]
    },
    {
      "cell_type": "code",
      "execution_count": null,
      "metadata": {},
      "outputs": [
        {
          "name": "stdout",
          "output_type": "stream",
          "text": [
            "-------------------- Running Images of Class  Covid\n",
            "-------------------- Running Images of Class  Normal\n",
            "-------------------- Running Images of Class  Viral Pneumonia\n",
            "\n",
            "Accuracy: 27/66 | 40.9091%\n"
          ]
        }
      ],
      "source": [
        "from data.evaluation import evaluate_model, evaluate_single\n",
        "\n",
        "#evaluate_model(model=model,\n",
        "#               test_data=test_ds,\n",
        "#               batch_size=1\n",
        "#               )\n",
        "\n",
        "evaluate_single(model=model, classes_list=['Covid', 'Normal', 'Viral Pneumonia'])"
      ]
    },
    {
      "cell_type": "markdown",
      "metadata": {},
      "source": [
        "# Saving Model"
      ]
    },
    {
      "cell_type": "code",
      "execution_count": null,
      "metadata": {},
      "outputs": [
        {
          "name": "stdout",
          "output_type": "stream",
          "text": [
            "Saved file model_25_27_08_18_31.pth at /home/guilherme/code/python/Covid19_CNN/src/model/saved\n"
          ]
        }
      ],
      "source": [
        "from model.save_model import save_model\n",
        "\n",
        "save_model(model=model, optimizer=optimizer)"
      ]
    }
  ],
  "metadata": {
    "accelerator": "GPU",
    "colab": {
      "gpuType": "T4",
      "provenance": []
    },
    "kernelspec": {
      "display_name": "venv",
      "language": "python",
      "name": "python3"
    },
    "language_info": {
      "codemirror_mode": {
        "name": "ipython",
        "version": 3
      },
      "file_extension": ".py",
      "mimetype": "text/x-python",
      "name": "python",
      "nbconvert_exporter": "python",
      "pygments_lexer": "ipython3",
      "version": "3.12.3"
    }
  },
  "nbformat": 4,
  "nbformat_minor": 0
}
