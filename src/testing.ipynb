{
 "cells": [
  {
   "cell_type": "markdown",
   "id": "7b57c589",
   "metadata": {},
   "source": [
    "# Testing Notebook\n",
    "\n",
    "Load a model and test it against images of your choice.\n",
    "\n",
    "ipywidgets reference: https://medium.com/data-science/interactive-controls-for-jupyter-notebooks-f5c94829aee6"
   ]
  },
  {
   "cell_type": "code",
   "execution_count": null,
   "id": "d8376ae1",
   "metadata": {},
   "outputs": [],
   "source": [
    "import torch\n",
    "device = torch.device('cuda' if torch.cuda.is_available() else 'cpu')"
   ]
  },
  {
   "cell_type": "markdown",
   "id": "bccf383f",
   "metadata": {},
   "source": [
    "## Loading Model"
   ]
  },
  {
   "cell_type": "code",
   "execution_count": null,
   "id": "39a35b11",
   "metadata": {},
   "outputs": [],
   "source": [
    "# Loading Model\n",
    "import os\n",
    "from setup import SAVE_PATH, FINE_TUNE\n",
    "from torchvision.models import resnet18\n",
    "from ipywidgets import interact\n",
    "\n",
    "data = {'model': None}\n",
    "\n",
    "@interact\n",
    "def choose_model(selected_model=os.listdir(SAVE_PATH)):\n",
    "    saved_state_dict = torch.load(os.path.join(SAVE_PATH, selected_model), weights_only=False)['model']\n",
    "    if FINE_TUNE:\n",
    "        model = resnet18(pretrained=True)\n",
    "        model.fc = torch.nn.Linear(model.fc.in_features, 3)\n",
    "        model.load_state_dict(saved_state_dict)\n",
    "        model.eval()\n",
    "        data['model'] = model\n",
    "        print('Model loaded successfully')"
   ]
  },
  {
   "cell_type": "markdown",
   "id": "467364f4",
   "metadata": {},
   "source": [
    "## Testing On Specific Image"
   ]
  },
  {
   "cell_type": "code",
   "execution_count": null,
   "id": "82c06081",
   "metadata": {},
   "outputs": [],
   "source": [
    "from IPython.display import Image\n",
    "from setup import DATA_PATH, IMAGE_HEIGHT, IMAGE_WIDTH\n",
    "import PIL\n",
    "from torchvision import transforms\n",
    "\n",
    "CLASS_NAME = 'Covid'\n",
    "SUBSET = 'train'\n",
    "PATH = os.path.join(DATA_PATH, SUBSET, CLASS_NAME)\n",
    "\n",
    "@interact\n",
    "def change(img_name=os.listdir(os.path.join(PATH))):\n",
    "\n",
    "    # Img\n",
    "    img_path = os.path.join(PATH, img_name)\n",
    "    print(img_path)\n",
    "\n",
    "    # Loading Image\n",
    "    pil_image = PIL.Image.open(img_path)\n",
    "    pil_image = pil_image.convert('RGB')\n",
    "\n",
    "    transform = transforms.Compose([transforms.Resize(size=(IMAGE_WIDTH, IMAGE_HEIGHT)), transforms.ToTensor(), transforms.Normalize([0.5, 0.5, 0.5], std=[0.5, 0.5, 0.5])])\n",
    "    model_input = transform(pil_image).float().unsqueeze(0)\n",
    "    \n",
    "    # Testing Against Model\n",
    "    result = data['model'](model_input)\n",
    "    probabilities = torch.softmax(result, dim=1)\n",
    "    predicted_class = torch.argmax(probabilities).item()\n",
    "\n",
    "\n",
    "    # Display Results\n",
    "    display(f'Predicted Class: {predicted_class}')\n",
    "    display(f'Class: {CLASS_NAME}')\n",
    "    display(Image(os.path.join(PATH, img_name)))\n",
    "\n"
   ]
  },
  {
   "cell_type": "markdown",
   "id": "b46a710a",
   "metadata": {},
   "source": [
    "## Evaluating Image By Image"
   ]
  },
  {
   "cell_type": "code",
   "execution_count": null,
   "id": "b7f39676",
   "metadata": {},
   "outputs": [],
   "source": [
    "from data.evaluation import evaluate_single\n",
    "\n",
    "evaluate_single(model=data['model'], classes_list=['Covid', 'Normal', 'Viral Pneumonia'], device=device)"
   ]
  }
 ],
 "metadata": {
  "kernelspec": {
   "display_name": "venv",
   "language": "python",
   "name": "python3"
  },
  "language_info": {
   "codemirror_mode": {
    "name": "ipython",
    "version": 3
   },
   "file_extension": ".py",
   "mimetype": "text/x-python",
   "name": "python",
   "nbconvert_exporter": "python",
   "pygments_lexer": "ipython3",
   "version": "3.12.3"
  }
 },
 "nbformat": 4,
 "nbformat_minor": 5
}
