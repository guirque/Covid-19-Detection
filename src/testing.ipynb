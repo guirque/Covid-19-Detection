{
 "cells": [
  {
   "cell_type": "markdown",
   "id": "7b57c589",
   "metadata": {},
   "source": [
    "# Testing Notebook\n",
    "\n",
    "Load a model and test it against images of your choice.\n",
    "\n",
    "ipywidgets reference: https://medium.com/data-science/interactive-controls-for-jupyter-notebooks-f5c94829aee6"
   ]
  },
  {
   "cell_type": "code",
   "execution_count": null,
   "id": "d8376ae1",
   "metadata": {},
   "outputs": [],
   "source": [
    "import torch\n",
    "device = torch.device('cuda' if torch.cuda.is_available() else 'cpu')"
   ]
  },
  {
   "cell_type": "markdown",
   "id": "bccf383f",
   "metadata": {},
   "source": [
    "## Loading Model"
   ]
  },
  {
   "cell_type": "code",
   "execution_count": null,
   "id": "39a35b11",
   "metadata": {},
   "outputs": [],
   "source": [
    "# Loading Model\n",
    "import os\n",
    "from setup import SAVE_PATH, FINE_TUNE\n",
    "from torchvision.models import resnet18\n",
    "from ipywidgets import interact\n",
    "from model.load_model import load_saved_model\n",
    "\n",
    "data = {'model': None}\n",
    "\n",
    "@interact\n",
    "def choose_model(selected_model=os.listdir(SAVE_PATH), fine_tune=False):\n",
    "    model_path = os.path.join(SAVE_PATH, selected_model)\n",
    "    model = load_saved_model(model_path, fine_tune=fine_tune)\n",
    "\n",
    "    model.eval()\n",
    "    model.to(device)\n",
    "    data['model'] = model\n",
    "    print('Model loaded successfully')"
   ]
  },
  {
   "cell_type": "markdown",
   "id": "467364f4",
   "metadata": {},
   "source": [
    "## Testing On Specific Image"
   ]
  },
  {
   "cell_type": "code",
   "execution_count": null,
   "id": "82c06081",
   "metadata": {},
   "outputs": [],
   "source": [
    "\n",
    "from IPython.display import Image\n",
    "from setup import DATA_PATH, IMAGE_HEIGHT, IMAGE_WIDTH\n",
    "from torchvision import transforms\n",
    "from model.run_img import run_img\n",
    "\n",
    "@interact\n",
    "def set_folder(class_name='Covid', subset='test'):\n",
    "    PATH = os.path.join(DATA_PATH, subset, class_name)\n",
    "    \n",
    "    @interact\n",
    "    def choose_img(img_name=os.listdir(os.path.join(PATH))):\n",
    "\n",
    "        # Img\n",
    "        img_path = os.path.join(PATH, img_name)\n",
    "        transform = transforms.Compose([transforms.Resize(size=(IMAGE_WIDTH, IMAGE_HEIGHT)), transforms.ToTensor(), transforms.Normalize([0.5, 0.5, 0.5], std=[0.5, 0.5, 0.5])])\n",
    "\n",
    "        predicted_class, _ = run_img(data['model'], img_path, device, transform)\n",
    "\n",
    "        # Display Results\n",
    "        display(f'Predicted Class: {predicted_class}')\n",
    "        display(f'Class: {class_name}')\n",
    "        display(Image(os.path.join(PATH, img_name)))"
   ]
  },
  {
   "cell_type": "markdown",
   "id": "b46a710a",
   "metadata": {},
   "source": [
    "## Evaluating Image By Image"
   ]
  },
  {
   "cell_type": "code",
   "execution_count": null,
   "id": "b7f39676",
   "metadata": {},
   "outputs": [],
   "source": [
    "from data.evaluation import evaluate_single\n",
    "\n",
    "evaluate_single(model=data['model'], classes_list=['Covid', 'Normal', 'Viral Pneumonia'], device=device)"
   ]
  }
 ],
 "metadata": {
  "kernelspec": {
   "display_name": "venv",
   "language": "python",
   "name": "python3"
  },
  "language_info": {
   "codemirror_mode": {
    "name": "ipython",
    "version": 3
   },
   "file_extension": ".py",
   "mimetype": "text/x-python",
   "name": "python",
   "nbconvert_exporter": "python",
   "pygments_lexer": "ipython3",
   "version": "3.12.3"
  }
 },
 "nbformat": 4,
 "nbformat_minor": 5
}
