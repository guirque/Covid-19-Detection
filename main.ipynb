{
  "cells": [
    {
      "cell_type": "markdown",
      "metadata": {
        "id": "3UF8rKAX1Fb5"
      },
      "source": [
        "# Variables"
      ]
    },
    {
      "cell_type": "code",
      "execution_count": 3,
      "metadata": {
        "id": "xXEJUHYM1IYe"
      },
      "outputs": [],
      "source": [
        "BATCH_SIZE = 10\n",
        "NUM_EPOCHS = 50\n",
        "IMAGE_WIDTH = 650\n",
        "IMAGE_HEIGHT = 650\n",
        "LEARNING_RATE=0.01\n"
      ]
    },
    {
      "cell_type": "markdown",
      "metadata": {
        "id": "fQTR_8N6xp-F"
      },
      "source": [
        "# Dataset Downloading"
      ]
    },
    {
      "cell_type": "markdown",
      "metadata": {
        "id": "mJUdeIXxzRp8"
      },
      "source": [
        "Covid-19 Image Classification"
      ]
    },
    {
      "cell_type": "code",
      "execution_count": null,
      "metadata": {
        "colab": {
          "base_uri": "https://localhost:8080/"
        },
        "id": "8HMZw3_hvzY1",
        "outputId": "0858e4c4-7cfa-45bd-b255-feb5d98539d1"
      },
      "outputs": [],
      "source": [
        "!curl -L -o /content/sample_data/covid19-image-dataset.zip\\\n",
        "  https://www.kaggle.com/api/v1/datasets/download/pranavraikokte/covid19-image-dataset"
      ]
    },
    {
      "cell_type": "code",
      "execution_count": null,
      "metadata": {
        "id": "4OlO8Ie1yUfg"
      },
      "outputs": [],
      "source": [
        "from zipfile import ZipFile\n",
        "with ZipFile('/content/sample_data/covid19-image-dataset.zip') as zp:\n",
        "  zp.extractall('/content/sample_data/')"
      ]
    },
    {
      "cell_type": "markdown",
      "metadata": {
        "id": "UEcpmFJuzXII"
      },
      "source": [
        "# Data Loading"
      ]
    },
    {
      "cell_type": "code",
      "execution_count": null,
      "metadata": {
        "collapsed": true,
        "id": "SC6mfpKLznRZ"
      },
      "outputs": [],
      "source": [
        "from torchvision import datasets, transforms\n",
        "\n",
        "transform = transforms.Compose([transforms.Resize(size=(IMAGE_WIDTH, IMAGE_HEIGHT)), transforms.ToTensor()])\n",
        "train_ds = datasets.ImageFolder('/content/sample_data/Covid19-dataset/train/', transform)\n",
        "test_ds = datasets.ImageFolder('/content/sample_data/Covid19-dataset/test/', transform)"
      ]
    },
    {
      "cell_type": "code",
      "execution_count": null,
      "metadata": {
        "colab": {
          "base_uri": "https://localhost:8080/"
        },
        "id": "_9XwaZSX0T-0",
        "outputId": "b271b7dc-f439-43d7-f99b-6c0d53ac65ce"
      },
      "outputs": [],
      "source": [
        "train_ds"
      ]
    },
    {
      "cell_type": "markdown",
      "metadata": {
        "id": "rbBdZIjn_JiO"
      },
      "source": [
        "We might not have to create a custom dataset, because we can use ImageFolder to create a dataset from an image folder with an organized structure. It will automatically associate the class names to images according to folder names.\n",
        "\n",
        "https://debuggercafe.com/pytorch-imagefolder-for-training-cnn-models/"
      ]
    },
    {
      "cell_type": "code",
      "execution_count": null,
      "metadata": {
        "id": "Ma8J4ySR0xkg"
      },
      "outputs": [],
      "source": [
        "from torch.utils.data import Dataset, DataLoader\n",
        "import torch\n",
        "\n",
        "\n",
        "loader = DataLoader(\n",
        "    dataset=train_ds,\n",
        "    batch_size=BATCH_SIZE,\n",
        "    shuffle=True,\n",
        "    num_workers=2\n",
        ")"
      ]
    },
    {
      "cell_type": "code",
      "execution_count": null,
      "metadata": {
        "collapsed": true,
        "id": "0TsdB0769Iz0"
      },
      "outputs": [],
      "source": [
        "# train_ds.imgs"
      ]
    },
    {
      "cell_type": "markdown",
      "metadata": {
        "id": "ljsUITP1Dype"
      },
      "source": [
        "Images loaded are of different sizes, which would cause a\n",
        "```\n",
        "RuntimeError: stack expects each tensor to be equal size, but got [3, 3480, 4248] at entry 0 and [3, 1303, 1458] at entry 1\n",
        "\n",
        "```\n",
        "\n",
        "We can fix that by assuring all images are of the same size. Use a transform for that.\n",
        "\n",
        "https://discuss.pytorch.org/t/runtimeerror-stack-expects-each-tensor-to-be-equal-size-but-got-3-224-224-at-entry-0-and-3-224-336-at-entry-3/87211"
      ]
    },
    {
      "cell_type": "markdown",
      "metadata": {
        "id": "XplHOEmvGGkZ"
      },
      "source": [
        "Apparently, we can normalize the channels to make sure brighter colors won't be of more importance. Use a transform for that.\n",
        "\n",
        "https://stats.stackexchange.com/questions/211436/why-normalize-images-by-subtracting-datasets-image-mean-instead-of-the-current"
      ]
    },
    {
      "cell_type": "code",
      "execution_count": null,
      "metadata": {
        "collapsed": true,
        "id": "CSNHi2sU2J2G"
      },
      "outputs": [],
      "source": [
        "import math\n",
        "\n",
        "iterable_ds = iter(loader)\n",
        "NUM_IMGS = len(train_ds.imgs)\n",
        "NUM_BATCHES = math.ceil(NUM_IMGS/BATCH_SIZE)"
      ]
    },
    {
      "cell_type": "markdown",
      "metadata": {
        "id": "SXadZTFgSVPC"
      },
      "source": [
        "# Analyzing Data"
      ]
    },
    {
      "cell_type": "code",
      "execution_count": null,
      "metadata": {
        "colab": {
          "base_uri": "https://localhost:8080/",
          "height": 588
        },
        "id": "8x5YkmOqSaMa",
        "outputId": "8079a354-9a05-447a-a1e9-9a5475f50f8d"
      },
      "outputs": [
        {
          "data": {
            "image/png": "[encoded data removed]",
            "text/plain": [
              "<Figure size 640x480 with 1 Axes>"
            ]
          },
          "metadata": {},
          "output_type": "display_data"
        },
        {
          "data": {
            "application/vnd.google.colaboratory.intrinsic+json": {
              "summary": "{\n  \"name\": \"df\",\n  \"rows\": 3,\n  \"fields\": [\n    {\n      \"column\": \"Class\",\n      \"properties\": {\n        \"dtype\": \"number\",\n        \"std\": 1,\n        \"min\": 0,\n        \"max\": 2,\n        \"num_unique_values\": 3,\n        \"samples\": [\n          0,\n          1,\n          2\n        ],\n        \"semantic_type\": \"\",\n        \"description\": \"\"\n      }\n    },\n    {\n      \"column\": \"Img_Uri\",\n      \"properties\": {\n        \"dtype\": \"number\",\n        \"std\": 0,\n        \"min\": 70,\n        \"max\": 70,\n        \"num_unique_values\": 1,\n        \"samples\": [\n          70\n        ],\n        \"semantic_type\": \"\",\n        \"description\": \"\"\n      }\n    }\n  ]\n}",
              "type": "dataframe"
            },
            "text/html": [
              "\n",
              "  <div id=\"df-21ccc7b1-f855-45ee-b4c8-901fd70e5fd5\" class=\"colab-df-container\">\n",
              "    <div>\n",
              "<style scoped>\n",
              "    .dataframe tbody tr th:only-of-type {\n",
              "        vertical-align: middle;\n",
              "    }\n",
              "\n",
              "    .dataframe tbody tr th {\n",
              "        vertical-align: top;\n",
              "    }\n",
              "\n",
              "    .dataframe thead th {\n",
              "        text-align: right;\n",
              "    }\n",
              "</style>\n",
              "<table border=\"1\" class=\"dataframe\">\n",
              "  <thead>\n",
              "    <tr style=\"text-align: right;\">\n",
              "      <th></th>\n",
              "      <th>Img_Uri</th>\n",
              "    </tr>\n",
              "    <tr>\n",
              "      <th>Class</th>\n",
              "      <th></th>\n",
              "    </tr>\n",
              "  </thead>\n",
              "  <tbody>\n",
              "    <tr>\n",
              "      <th>0</th>\n",
              "      <td>70</td>\n",
              "    </tr>\n",
              "    <tr>\n",
              "      <th>1</th>\n",
              "      <td>70</td>\n",
              "    </tr>\n",
              "    <tr>\n",
              "      <th>2</th>\n",
              "      <td>70</td>\n",
              "    </tr>\n",
              "  </tbody>\n",
              "</table>\n",
              "</div>\n",
              "    <div class=\"colab-df-buttons\">\n",
              "\n",
              "  <div class=\"colab-df-container\">\n",
              "    <button class=\"colab-df-convert\" onclick=\"convertToInteractive('df-21ccc7b1-f855-45ee-b4c8-901fd70e5fd5')\"\n",
              "            title=\"Convert this dataframe to an interactive table.\"\n",
              "            style=\"display:none;\">\n",
              "\n",
              "  <svg xmlns=\"http://www.w3.org/2000/svg\" height=\"24px\" viewBox=\"0 -960 960 960\">\n",
              "    <path d=\"M120-120v-720h720v720H120Zm60-500h600v-160H180v160Zm220 220h160v-160H400v160Zm0 220h160v-160H400v160ZM180-400h160v-160H180v160Zm440 0h160v-160H620v160ZM180-180h160v-160H180v160Zm440 0h160v-160H620v160Z\"/>\n",
              "  </svg>\n",
              "    </button>\n",
              "\n",
              "  <style>\n",
              "    .colab-df-container {\n",
              "      display:flex;\n",
              "      gap: 12px;\n",
              "    }\n",
              "\n",
              "    .colab-df-convert {\n",
              "      background-color: #E8F0FE;\n",
              "      border: none;\n",
              "      border-radius: 50%;\n",
              "      cursor: pointer;\n",
              "      display: none;\n",
              "      fill: #1967D2;\n",
              "      height: 32px;\n",
              "      padding: 0 0 0 0;\n",
              "      width: 32px;\n",
              "    }\n",
              "\n",
              "    .colab-df-convert:hover {\n",
              "      background-color: #E2EBFA;\n",
              "      box-shadow: 0px 1px 2px rgba(60, 64, 67, 0.3), 0px 1px 3px 1px rgba(60, 64, 67, 0.15);\n",
              "      fill: #174EA6;\n",
              "    }\n",
              "\n",
              "    .colab-df-buttons div {\n",
              "      margin-bottom: 4px;\n",
              "    }\n",
              "\n",
              "    [theme=dark] .colab-df-convert {\n",
              "      background-color: #3B4455;\n",
              "      fill: #D2E3FC;\n",
              "    }\n",
              "\n",
              "    [theme=dark] .colab-df-convert:hover {\n",
              "      background-color: #434B5C;\n",
              "      box-shadow: 0px 1px 3px 1px rgba(0, 0, 0, 0.15);\n",
              "      filter: drop-shadow(0px 1px 2px rgba(0, 0, 0, 0.3));\n",
              "      fill: #FFFFFF;\n",
              "    }\n",
              "  </style>\n",
              "\n",
              "    <script>\n",
              "      const buttonEl =\n",
              "        document.querySelector('#df-21ccc7b1-f855-45ee-b4c8-901fd70e5fd5 button.colab-df-convert');\n",
              "      buttonEl.style.display =\n",
              "        google.colab.kernel.accessAllowed ? 'block' : 'none';\n",
              "\n",
              "      async function convertToInteractive(key) {\n",
              "        const element = document.querySelector('#df-21ccc7b1-f855-45ee-b4c8-901fd70e5fd5');\n",
              "        const dataTable =\n",
              "          await google.colab.kernel.invokeFunction('convertToInteractive',\n",
              "                                                    [key], {});\n",
              "        if (!dataTable) return;\n",
              "\n",
              "        const docLinkHtml = 'Like what you see? Visit the ' +\n",
              "          '<a target=\"_blank\" href=https://colab.research.google.com/notebooks/data_table.ipynb>data table notebook</a>'\n",
              "          + ' to learn more about interactive tables.';\n",
              "        element.innerHTML = '';\n",
              "        dataTable['output_type'] = 'display_data';\n",
              "        await google.colab.output.renderOutput(dataTable, element);\n",
              "        const docLink = document.createElement('div');\n",
              "        docLink.innerHTML = docLinkHtml;\n",
              "        element.appendChild(docLink);\n",
              "      }\n",
              "    </script>\n",
              "  </div>\n",
              "\n",
              "\n",
              "    <div id=\"df-e7ad8c6b-55c8-48d1-bf94-30e63d61bfed\">\n",
              "      <button class=\"colab-df-quickchart\" onclick=\"quickchart('df-e7ad8c6b-55c8-48d1-bf94-30e63d61bfed')\"\n",
              "                title=\"Suggest charts\"\n",
              "                style=\"display:none;\">\n",
              "\n",
              "<svg xmlns=\"http://www.w3.org/2000/svg\" height=\"24px\"viewBox=\"0 0 24 24\"\n",
              "     width=\"24px\">\n",
              "    <g>\n",
              "        <path d=\"M19 3H5c-1.1 0-2 .9-2 2v14c0 1.1.9 2 2 2h14c1.1 0 2-.9 2-2V5c0-1.1-.9-2-2-2zM9 17H7v-7h2v7zm4 0h-2V7h2v10zm4 0h-2v-4h2v4z\"/>\n",
              "    </g>\n",
              "</svg>\n",
              "      </button>\n",
              "\n",
              "<style>\n",
              "  .colab-df-quickchart {\n",
              "      --bg-color: #E8F0FE;\n",
              "      --fill-color: #1967D2;\n",
              "      --hover-bg-color: #E2EBFA;\n",
              "      --hover-fill-color: #174EA6;\n",
              "      --disabled-fill-color: #AAA;\n",
              "      --disabled-bg-color: #DDD;\n",
              "  }\n",
              "\n",
              "  [theme=dark] .colab-df-quickchart {\n",
              "      --bg-color: #3B4455;\n",
              "      --fill-color: #D2E3FC;\n",
              "      --hover-bg-color: #434B5C;\n",
              "      --hover-fill-color: #FFFFFF;\n",
              "      --disabled-bg-color: #3B4455;\n",
              "      --disabled-fill-color: #666;\n",
              "  }\n",
              "\n",
              "  .colab-df-quickchart {\n",
              "    background-color: var(--bg-color);\n",
              "    border: none;\n",
              "    border-radius: 50%;\n",
              "    cursor: pointer;\n",
              "    display: none;\n",
              "    fill: var(--fill-color);\n",
              "    height: 32px;\n",
              "    padding: 0;\n",
              "    width: 32px;\n",
              "  }\n",
              "\n",
              "  .colab-df-quickchart:hover {\n",
              "    background-color: var(--hover-bg-color);\n",
              "    box-shadow: 0 1px 2px rgba(60, 64, 67, 0.3), 0 1px 3px 1px rgba(60, 64, 67, 0.15);\n",
              "    fill: var(--button-hover-fill-color);\n",
              "  }\n",
              "\n",
              "  .colab-df-quickchart-complete:disabled,\n",
              "  .colab-df-quickchart-complete:disabled:hover {\n",
              "    background-color: var(--disabled-bg-color);\n",
              "    fill: var(--disabled-fill-color);\n",
              "    box-shadow: none;\n",
              "  }\n",
              "\n",
              "  .colab-df-spinner {\n",
              "    border: 2px solid var(--fill-color);\n",
              "    border-color: transparent;\n",
              "    border-bottom-color: var(--fill-color);\n",
              "    animation:\n",
              "      spin 1s steps(1) infinite;\n",
              "  }\n",
              "\n",
              "  @keyframes spin {\n",
              "    0% {\n",
              "      border-color: transparent;\n",
              "      border-bottom-color: var(--fill-color);\n",
              "      border-left-color: var(--fill-color);\n",
              "    }\n",
              "    20% {\n",
              "      border-color: transparent;\n",
              "      border-left-color: var(--fill-color);\n",
              "      border-top-color: var(--fill-color);\n",
              "    }\n",
              "    30% {\n",
              "      border-color: transparent;\n",
              "      border-left-color: var(--fill-color);\n",
              "      border-top-color: var(--fill-color);\n",
              "      border-right-color: var(--fill-color);\n",
              "    }\n",
              "    40% {\n",
              "      border-color: transparent;\n",
              "      border-right-color: var(--fill-color);\n",
              "      border-top-color: var(--fill-color);\n",
              "    }\n",
              "    60% {\n",
              "      border-color: transparent;\n",
              "      border-right-color: var(--fill-color);\n",
              "    }\n",
              "    80% {\n",
              "      border-color: transparent;\n",
              "      border-right-color: var(--fill-color);\n",
              "      border-bottom-color: var(--fill-color);\n",
              "    }\n",
              "    90% {\n",
              "      border-color: transparent;\n",
              "      border-bottom-color: var(--fill-color);\n",
              "    }\n",
              "  }\n",
              "</style>\n",
              "\n",
              "      <script>\n",
              "        async function quickchart(key) {\n",
              "          const quickchartButtonEl =\n",
              "            document.querySelector('#' + key + ' button');\n",
              "          quickchartButtonEl.disabled = true;  // To prevent multiple clicks.\n",
              "          quickchartButtonEl.classList.add('colab-df-spinner');\n",
              "          try {\n",
              "            const charts = await google.colab.kernel.invokeFunction(\n",
              "                'suggestCharts', [key], {});\n",
              "          } catch (error) {\n",
              "            console.error('Error during call to suggestCharts:', error);\n",
              "          }\n",
              "          quickchartButtonEl.classList.remove('colab-df-spinner');\n",
              "          quickchartButtonEl.classList.add('colab-df-quickchart-complete');\n",
              "        }\n",
              "        (() => {\n",
              "          let quickchartButtonEl =\n",
              "            document.querySelector('#df-e7ad8c6b-55c8-48d1-bf94-30e63d61bfed button');\n",
              "          quickchartButtonEl.style.display =\n",
              "            google.colab.kernel.accessAllowed ? 'block' : 'none';\n",
              "        })();\n",
              "      </script>\n",
              "    </div>\n",
              "\n",
              "    </div>\n",
              "  </div>\n"
            ],
            "text/plain": [
              "       Img_Uri\n",
              "Class         \n",
              "0           70\n",
              "1           70\n",
              "2           70"
            ]
          },
          "execution_count": 331,
          "metadata": {},
          "output_type": "execute_result"
        }
      ],
      "source": [
        "import matplotlib.pyplot as plt\n",
        "import pandas as pd\n",
        "\n",
        "df = pd.DataFrame(train_ds.imgs)\n",
        "df = df.rename(columns={0: 'Img_Uri', 1: 'Class'})\n",
        "classes = df.loc[:, 'Class']\n",
        "\n",
        "plt.hist(classes)\n",
        "plt.xticks([0, 1, 2], labels=train_ds.classes)\n",
        "plt.show()\n",
        "\n",
        "df.groupby(['Class']).count()"
      ]
    },
    {
      "cell_type": "code",
      "execution_count": null,
      "metadata": {
        "colab": {
          "base_uri": "https://localhost:8080/",
          "height": 424
        },
        "id": "X8WXzu99a21d",
        "outputId": "fa1f77b2-5af6-4412-ab11-5f7ab9009fb5"
      },
      "outputs": [
        {
          "data": {
            "application/vnd.google.colaboratory.intrinsic+json": {
              "summary": "{\n  \"name\": \"df\",\n  \"rows\": 251,\n  \"fields\": [\n    {\n      \"column\": \"Class\",\n      \"properties\": {\n        \"dtype\": \"string\",\n        \"num_unique_values\": 251,\n        \"samples\": [\n          \"/content/sample_data/Covid19-dataset/train/Normal/071.jpeg\",\n          \"/content/sample_data/Covid19-dataset/train/Covid/020.jpg\",\n          \"/content/sample_data/Covid19-dataset/train/Normal/080.jpeg\"\n        ],\n        \"semantic_type\": \"\",\n        \"description\": \"\"\n      }\n    },\n    {\n      \"column\": 1,\n      \"properties\": {\n        \"dtype\": \"number\",\n        \"std\": 0,\n        \"min\": 0,\n        \"max\": 2,\n        \"num_unique_values\": 3,\n        \"samples\": [\n          0,\n          1,\n          2\n        ],\n        \"semantic_type\": \"\",\n        \"description\": \"\"\n      }\n    }\n  ]\n}",
              "type": "dataframe",
              "variable_name": "df"
            },
            "text/html": [
              "\n",
              "  <div id=\"df-daef19ef-0256-4adc-9621-6d3844b9e5c9\" class=\"colab-df-container\">\n",
              "    <div>\n",
              "<style scoped>\n",
              "    .dataframe tbody tr th:only-of-type {\n",
              "        vertical-align: middle;\n",
              "    }\n",
              "\n",
              "    .dataframe tbody tr th {\n",
              "        vertical-align: top;\n",
              "    }\n",
              "\n",
              "    .dataframe thead th {\n",
              "        text-align: right;\n",
              "    }\n",
              "</style>\n",
              "<table border=\"1\" class=\"dataframe\">\n",
              "  <thead>\n",
              "    <tr style=\"text-align: right;\">\n",
              "      <th></th>\n",
              "      <th>Class</th>\n",
              "      <th>1</th>\n",
              "    </tr>\n",
              "  </thead>\n",
              "  <tbody>\n",
              "    <tr>\n",
              "      <th>0</th>\n",
              "      <td>/content/sample_data/Covid19-dataset/train/Cov...</td>\n",
              "      <td>0</td>\n",
              "    </tr>\n",
              "    <tr>\n",
              "      <th>1</th>\n",
              "      <td>/content/sample_data/Covid19-dataset/train/Cov...</td>\n",
              "      <td>0</td>\n",
              "    </tr>\n",
              "    <tr>\n",
              "      <th>2</th>\n",
              "      <td>/content/sample_data/Covid19-dataset/train/Cov...</td>\n",
              "      <td>0</td>\n",
              "    </tr>\n",
              "    <tr>\n",
              "      <th>3</th>\n",
              "      <td>/content/sample_data/Covid19-dataset/train/Cov...</td>\n",
              "      <td>0</td>\n",
              "    </tr>\n",
              "    <tr>\n",
              "      <th>4</th>\n",
              "      <td>/content/sample_data/Covid19-dataset/train/Cov...</td>\n",
              "      <td>0</td>\n",
              "    </tr>\n",
              "    <tr>\n",
              "      <th>...</th>\n",
              "      <td>...</td>\n",
              "      <td>...</td>\n",
              "    </tr>\n",
              "    <tr>\n",
              "      <th>246</th>\n",
              "      <td>/content/sample_data/Covid19-dataset/train/Vir...</td>\n",
              "      <td>2</td>\n",
              "    </tr>\n",
              "    <tr>\n",
              "      <th>247</th>\n",
              "      <td>/content/sample_data/Covid19-dataset/train/Vir...</td>\n",
              "      <td>2</td>\n",
              "    </tr>\n",
              "    <tr>\n",
              "      <th>248</th>\n",
              "      <td>/content/sample_data/Covid19-dataset/train/Vir...</td>\n",
              "      <td>2</td>\n",
              "    </tr>\n",
              "    <tr>\n",
              "      <th>249</th>\n",
              "      <td>/content/sample_data/Covid19-dataset/train/Vir...</td>\n",
              "      <td>2</td>\n",
              "    </tr>\n",
              "    <tr>\n",
              "      <th>250</th>\n",
              "      <td>/content/sample_data/Covid19-dataset/train/Vir...</td>\n",
              "      <td>2</td>\n",
              "    </tr>\n",
              "  </tbody>\n",
              "</table>\n",
              "<p>251 rows × 2 columns</p>\n",
              "</div>\n",
              "    <div class=\"colab-df-buttons\">\n",
              "\n",
              "  <div class=\"colab-df-container\">\n",
              "    <button class=\"colab-df-convert\" onclick=\"convertToInteractive('df-daef19ef-0256-4adc-9621-6d3844b9e5c9')\"\n",
              "            title=\"Convert this dataframe to an interactive table.\"\n",
              "            style=\"display:none;\">\n",
              "\n",
              "  <svg xmlns=\"http://www.w3.org/2000/svg\" height=\"24px\" viewBox=\"0 -960 960 960\">\n",
              "    <path d=\"M120-120v-720h720v720H120Zm60-500h600v-160H180v160Zm220 220h160v-160H400v160Zm0 220h160v-160H400v160ZM180-400h160v-160H180v160Zm440 0h160v-160H620v160ZM180-180h160v-160H180v160Zm440 0h160v-160H620v160Z\"/>\n",
              "  </svg>\n",
              "    </button>\n",
              "\n",
              "  <style>\n",
              "    .colab-df-container {\n",
              "      display:flex;\n",
              "      gap: 12px;\n",
              "    }\n",
              "\n",
              "    .colab-df-convert {\n",
              "      background-color: #E8F0FE;\n",
              "      border: none;\n",
              "      border-radius: 50%;\n",
              "      cursor: pointer;\n",
              "      display: none;\n",
              "      fill: #1967D2;\n",
              "      height: 32px;\n",
              "      padding: 0 0 0 0;\n",
              "      width: 32px;\n",
              "    }\n",
              "\n",
              "    .colab-df-convert:hover {\n",
              "      background-color: #E2EBFA;\n",
              "      box-shadow: 0px 1px 2px rgba(60, 64, 67, 0.3), 0px 1px 3px 1px rgba(60, 64, 67, 0.15);\n",
              "      fill: #174EA6;\n",
              "    }\n",
              "\n",
              "    .colab-df-buttons div {\n",
              "      margin-bottom: 4px;\n",
              "    }\n",
              "\n",
              "    [theme=dark] .colab-df-convert {\n",
              "      background-color: #3B4455;\n",
              "      fill: #D2E3FC;\n",
              "    }\n",
              "\n",
              "    [theme=dark] .colab-df-convert:hover {\n",
              "      background-color: #434B5C;\n",
              "      box-shadow: 0px 1px 3px 1px rgba(0, 0, 0, 0.15);\n",
              "      filter: drop-shadow(0px 1px 2px rgba(0, 0, 0, 0.3));\n",
              "      fill: #FFFFFF;\n",
              "    }\n",
              "  </style>\n",
              "\n",
              "    <script>\n",
              "      const buttonEl =\n",
              "        document.querySelector('#df-daef19ef-0256-4adc-9621-6d3844b9e5c9 button.colab-df-convert');\n",
              "      buttonEl.style.display =\n",
              "        google.colab.kernel.accessAllowed ? 'block' : 'none';\n",
              "\n",
              "      async function convertToInteractive(key) {\n",
              "        const element = document.querySelector('#df-daef19ef-0256-4adc-9621-6d3844b9e5c9');\n",
              "        const dataTable =\n",
              "          await google.colab.kernel.invokeFunction('convertToInteractive',\n",
              "                                                    [key], {});\n",
              "        if (!dataTable) return;\n",
              "\n",
              "        const docLinkHtml = 'Like what you see? Visit the ' +\n",
              "          '<a target=\"_blank\" href=https://colab.research.google.com/notebooks/data_table.ipynb>data table notebook</a>'\n",
              "          + ' to learn more about interactive tables.';\n",
              "        element.innerHTML = '';\n",
              "        dataTable['output_type'] = 'display_data';\n",
              "        await google.colab.output.renderOutput(dataTable, element);\n",
              "        const docLink = document.createElement('div');\n",
              "        docLink.innerHTML = docLinkHtml;\n",
              "        element.appendChild(docLink);\n",
              "      }\n",
              "    </script>\n",
              "  </div>\n",
              "\n",
              "\n",
              "    <div id=\"df-fa358695-a589-49cb-8e86-75f379f9d8a0\">\n",
              "      <button class=\"colab-df-quickchart\" onclick=\"quickchart('df-fa358695-a589-49cb-8e86-75f379f9d8a0')\"\n",
              "                title=\"Suggest charts\"\n",
              "                style=\"display:none;\">\n",
              "\n",
              "<svg xmlns=\"http://www.w3.org/2000/svg\" height=\"24px\"viewBox=\"0 0 24 24\"\n",
              "     width=\"24px\">\n",
              "    <g>\n",
              "        <path d=\"M19 3H5c-1.1 0-2 .9-2 2v14c0 1.1.9 2 2 2h14c1.1 0 2-.9 2-2V5c0-1.1-.9-2-2-2zM9 17H7v-7h2v7zm4 0h-2V7h2v10zm4 0h-2v-4h2v4z\"/>\n",
              "    </g>\n",
              "</svg>\n",
              "      </button>\n",
              "\n",
              "<style>\n",
              "  .colab-df-quickchart {\n",
              "      --bg-color: #E8F0FE;\n",
              "      --fill-color: #1967D2;\n",
              "      --hover-bg-color: #E2EBFA;\n",
              "      --hover-fill-color: #174EA6;\n",
              "      --disabled-fill-color: #AAA;\n",
              "      --disabled-bg-color: #DDD;\n",
              "  }\n",
              "\n",
              "  [theme=dark] .colab-df-quickchart {\n",
              "      --bg-color: #3B4455;\n",
              "      --fill-color: #D2E3FC;\n",
              "      --hover-bg-color: #434B5C;\n",
              "      --hover-fill-color: #FFFFFF;\n",
              "      --disabled-bg-color: #3B4455;\n",
              "      --disabled-fill-color: #666;\n",
              "  }\n",
              "\n",
              "  .colab-df-quickchart {\n",
              "    background-color: var(--bg-color);\n",
              "    border: none;\n",
              "    border-radius: 50%;\n",
              "    cursor: pointer;\n",
              "    display: none;\n",
              "    fill: var(--fill-color);\n",
              "    height: 32px;\n",
              "    padding: 0;\n",
              "    width: 32px;\n",
              "  }\n",
              "\n",
              "  .colab-df-quickchart:hover {\n",
              "    background-color: var(--hover-bg-color);\n",
              "    box-shadow: 0 1px 2px rgba(60, 64, 67, 0.3), 0 1px 3px 1px rgba(60, 64, 67, 0.15);\n",
              "    fill: var(--button-hover-fill-color);\n",
              "  }\n",
              "\n",
              "  .colab-df-quickchart-complete:disabled,\n",
              "  .colab-df-quickchart-complete:disabled:hover {\n",
              "    background-color: var(--disabled-bg-color);\n",
              "    fill: var(--disabled-fill-color);\n",
              "    box-shadow: none;\n",
              "  }\n",
              "\n",
              "  .colab-df-spinner {\n",
              "    border: 2px solid var(--fill-color);\n",
              "    border-color: transparent;\n",
              "    border-bottom-color: var(--fill-color);\n",
              "    animation:\n",
              "      spin 1s steps(1) infinite;\n",
              "  }\n",
              "\n",
              "  @keyframes spin {\n",
              "    0% {\n",
              "      border-color: transparent;\n",
              "      border-bottom-color: var(--fill-color);\n",
              "      border-left-color: var(--fill-color);\n",
              "    }\n",
              "    20% {\n",
              "      border-color: transparent;\n",
              "      border-left-color: var(--fill-color);\n",
              "      border-top-color: var(--fill-color);\n",
              "    }\n",
              "    30% {\n",
              "      border-color: transparent;\n",
              "      border-left-color: var(--fill-color);\n",
              "      border-top-color: var(--fill-color);\n",
              "      border-right-color: var(--fill-color);\n",
              "    }\n",
              "    40% {\n",
              "      border-color: transparent;\n",
              "      border-right-color: var(--fill-color);\n",
              "      border-top-color: var(--fill-color);\n",
              "    }\n",
              "    60% {\n",
              "      border-color: transparent;\n",
              "      border-right-color: var(--fill-color);\n",
              "    }\n",
              "    80% {\n",
              "      border-color: transparent;\n",
              "      border-right-color: var(--fill-color);\n",
              "      border-bottom-color: var(--fill-color);\n",
              "    }\n",
              "    90% {\n",
              "      border-color: transparent;\n",
              "      border-bottom-color: var(--fill-color);\n",
              "    }\n",
              "  }\n",
              "</style>\n",
              "\n",
              "      <script>\n",
              "        async function quickchart(key) {\n",
              "          const quickchartButtonEl =\n",
              "            document.querySelector('#' + key + ' button');\n",
              "          quickchartButtonEl.disabled = true;  // To prevent multiple clicks.\n",
              "          quickchartButtonEl.classList.add('colab-df-spinner');\n",
              "          try {\n",
              "            const charts = await google.colab.kernel.invokeFunction(\n",
              "                'suggestCharts', [key], {});\n",
              "          } catch (error) {\n",
              "            console.error('Error during call to suggestCharts:', error);\n",
              "          }\n",
              "          quickchartButtonEl.classList.remove('colab-df-spinner');\n",
              "          quickchartButtonEl.classList.add('colab-df-quickchart-complete');\n",
              "        }\n",
              "        (() => {\n",
              "          let quickchartButtonEl =\n",
              "            document.querySelector('#df-fa358695-a589-49cb-8e86-75f379f9d8a0 button');\n",
              "          quickchartButtonEl.style.display =\n",
              "            google.colab.kernel.accessAllowed ? 'block' : 'none';\n",
              "        })();\n",
              "      </script>\n",
              "    </div>\n",
              "\n",
              "  <div id=\"id_d883aec8-be11-446c-920d-b2824078a551\">\n",
              "    <style>\n",
              "      .colab-df-generate {\n",
              "        background-color: #E8F0FE;\n",
              "        border: none;\n",
              "        border-radius: 50%;\n",
              "        cursor: pointer;\n",
              "        display: none;\n",
              "        fill: #1967D2;\n",
              "        height: 32px;\n",
              "        padding: 0 0 0 0;\n",
              "        width: 32px;\n",
              "      }\n",
              "\n",
              "      .colab-df-generate:hover {\n",
              "        background-color: #E2EBFA;\n",
              "        box-shadow: 0px 1px 2px rgba(60, 64, 67, 0.3), 0px 1px 3px 1px rgba(60, 64, 67, 0.15);\n",
              "        fill: #174EA6;\n",
              "      }\n",
              "\n",
              "      [theme=dark] .colab-df-generate {\n",
              "        background-color: #3B4455;\n",
              "        fill: #D2E3FC;\n",
              "      }\n",
              "\n",
              "      [theme=dark] .colab-df-generate:hover {\n",
              "        background-color: #434B5C;\n",
              "        box-shadow: 0px 1px 3px 1px rgba(0, 0, 0, 0.15);\n",
              "        filter: drop-shadow(0px 1px 2px rgba(0, 0, 0, 0.3));\n",
              "        fill: #FFFFFF;\n",
              "      }\n",
              "    </style>\n",
              "    <button class=\"colab-df-generate\" onclick=\"generateWithVariable('df')\"\n",
              "            title=\"Generate code using this dataframe.\"\n",
              "            style=\"display:none;\">\n",
              "\n",
              "  <svg xmlns=\"http://www.w3.org/2000/svg\" height=\"24px\"viewBox=\"0 0 24 24\"\n",
              "       width=\"24px\">\n",
              "    <path d=\"M7,19H8.4L18.45,9,17,7.55,7,17.6ZM5,21V16.75L18.45,3.32a2,2,0,0,1,2.83,0l1.4,1.43a1.91,1.91,0,0,1,.58,1.4,1.91,1.91,0,0,1-.58,1.4L9.25,21ZM18.45,9,17,7.55Zm-12,3A5.31,5.31,0,0,0,4.9,8.1,5.31,5.31,0,0,0,1,6.5,5.31,5.31,0,0,0,4.9,4.9,5.31,5.31,0,0,0,6.5,1,5.31,5.31,0,0,0,8.1,4.9,5.31,5.31,0,0,0,12,6.5,5.46,5.46,0,0,0,6.5,12Z\"/>\n",
              "  </svg>\n",
              "    </button>\n",
              "    <script>\n",
              "      (() => {\n",
              "      const buttonEl =\n",
              "        document.querySelector('#id_d883aec8-be11-446c-920d-b2824078a551 button.colab-df-generate');\n",
              "      buttonEl.style.display =\n",
              "        google.colab.kernel.accessAllowed ? 'block' : 'none';\n",
              "\n",
              "      buttonEl.onclick = () => {\n",
              "        google.colab.notebook.generateWithVariable('df');\n",
              "      }\n",
              "      })();\n",
              "    </script>\n",
              "  </div>\n",
              "\n",
              "    </div>\n",
              "  </div>\n"
            ],
            "text/plain": [
              "                                                 Class  1\n",
              "0    /content/sample_data/Covid19-dataset/train/Cov...  0\n",
              "1    /content/sample_data/Covid19-dataset/train/Cov...  0\n",
              "2    /content/sample_data/Covid19-dataset/train/Cov...  0\n",
              "3    /content/sample_data/Covid19-dataset/train/Cov...  0\n",
              "4    /content/sample_data/Covid19-dataset/train/Cov...  0\n",
              "..                                                 ... ..\n",
              "246  /content/sample_data/Covid19-dataset/train/Vir...  2\n",
              "247  /content/sample_data/Covid19-dataset/train/Vir...  2\n",
              "248  /content/sample_data/Covid19-dataset/train/Vir...  2\n",
              "249  /content/sample_data/Covid19-dataset/train/Vir...  2\n",
              "250  /content/sample_data/Covid19-dataset/train/Vir...  2\n",
              "\n",
              "[251 rows x 2 columns]"
            ]
          },
          "execution_count": 236,
          "metadata": {},
          "output_type": "execute_result"
        }
      ],
      "source": [
        "df"
      ]
    },
    {
      "cell_type": "markdown",
      "metadata": {
        "id": "3ll7akpnbn7D"
      },
      "source": [
        "# Modifying Data\n",
        "\n",
        "-> Undersampling"
      ]
    },
    {
      "cell_type": "code",
      "execution_count": null,
      "metadata": {
        "colab": {
          "base_uri": "https://localhost:8080/"
        },
        "id": "kqUqQR4qbngG",
        "outputId": "be3a636d-89bd-4496-9569-4df23e1afdbb"
      },
      "outputs": [
        {
          "name": "stdout",
          "output_type": "stream",
          "text": [
            "210\n",
            "70\n"
          ]
        }
      ],
      "source": [
        "i = 0\n",
        "new_imgs = []\n",
        "for img in train_ds.imgs:\n",
        "  if img[1] == 0:\n",
        "    if i >= 70:\n",
        "      continue\n",
        "    i += 1\n",
        "\n",
        "  new_imgs.append(img)\n",
        "\n",
        "train_ds.imgs = new_imgs\n",
        "\n",
        "print(len(train_ds.imgs))\n",
        "print(len(list(filter(lambda x: x[1] == 0, train_ds.imgs))))"
      ]
    },
    {
      "cell_type": "markdown",
      "metadata": {
        "id": "M2fMaPRP0t33"
      },
      "source": [
        "# Making Model"
      ]
    },
    {
      "cell_type": "code",
      "execution_count": null,
      "metadata": {
        "id": "xPPWB5GjHqH2"
      },
      "outputs": [],
      "source": [
        "from torch import nn, softmax, relu\n",
        "\n",
        "class CNN_Model(nn.Module):\n",
        "  def __init__(self):\n",
        "    super().__init__()\n",
        "    # Defining Layers\n",
        "    # Input -> CL + RELU -> POOL -> CL + RELU -> POOL -> FLATTEN -> FC -> SOFTMAX (from video)\n",
        "    # Size: 650x650x3 (width x height x channel)\n",
        "\n",
        "\n",
        "\n",
        "    self.cl1 = nn.Conv2d(in_channels=3, out_channels=8, kernel_size=3, stride=1, padding=1) # out_channels will determine how many filters we wish to apply\n",
        "     # W = 650, K = 3, S = 1, P = 1 -> size = (650 - 3 + 2 * P)/1 + 1 =  650\n",
        "     # out: 650 x 650 x 8\n",
        "\n",
        "\n",
        "    self.p1 = nn.MaxPool2d(kernel_size=2, stride=2, padding=0)\n",
        "    # W = 650, K = 2, S = 2, P = 0\n",
        "    # size = (650 - 2 + 2 * 0)/2 + 1 = 648/2 + 1 = 325\n",
        "    # out : 325 x 325 x 8\n",
        "\n",
        "\n",
        "    self.cl2 = nn.Conv2d(in_channels=8, out_channels=16, kernel_size=3, stride=1, padding=1)\n",
        "    # out : 325 x 325 x 16\n",
        "\n",
        "    self.p2 = nn.MaxPool2d(kernel_size=2, stride=2, padding=0)\n",
        "    # W = 325, K = 2, S = 2, P = 0\n",
        "    # size = 162.5 ~= 162\n",
        "    # out : 162 x 162 x 16\n",
        "\n",
        "    self.flatten = nn.Flatten()\n",
        "\n",
        "    self.fc1 = nn.Linear(in_features=162*162*16, out_features=3) # 3 classes available\n",
        "\n",
        "  def forward(self, input):\n",
        "    output = self.cl1(input)\n",
        "    output = relu(output)\n",
        "    output = self.p1(output)\n",
        "\n",
        "    output = self.cl2(output)\n",
        "    output = relu(output)\n",
        "    output = self.p2(output)\n",
        "\n",
        "    output = self.flatten(output)\n",
        "\n",
        "    output = self.fc1(output)\n",
        "    #output = softmax(output) # done by CrossEntropyLoss function\n",
        "\n",
        "    return output\n",
        "\n",
        "model = CNN_Model()\n"
      ]
    },
    {
      "cell_type": "markdown",
      "metadata": {
        "id": "HZWz0czDQNFc"
      },
      "source": [
        "# Setting Up Optimizer and Loss Function"
      ]
    },
    {
      "cell_type": "code",
      "execution_count": null,
      "metadata": {
        "id": "O6CXjKTpQP1j"
      },
      "outputs": [],
      "source": [
        "optimizer = torch.optim.Adam(model.parameters(), lr=LEARNING_RATE)\n",
        "loss = nn.CrossEntropyLoss()"
      ]
    },
    {
      "cell_type": "markdown",
      "metadata": {
        "id": "TBtU8k-YSVmI"
      },
      "source": [
        "# Setting Up Scheduler"
      ]
    },
    {
      "cell_type": "code",
      "execution_count": null,
      "metadata": {
        "id": "g8yB4lQ0SYvp"
      },
      "outputs": [],
      "source": [
        "from torch.optim import lr_scheduler\n",
        "\n",
        "scheduler = lr_scheduler.StepLR(\n",
        "    optimizer,\n",
        "    step_size=10,\n",
        "    gamma=0.5\n",
        ")"
      ]
    },
    {
      "cell_type": "markdown",
      "metadata": {
        "id": "-4Jbwh5FPl_K"
      },
      "source": [
        "# Training\n",
        "\n",
        "Apparently, to run on the GPU, we have to send the data itself to the GPU. We can do so with the batches. The loss function also needs the labels to be loaded on the GPU.\n",
        "\n",
        "https://discuss.pytorch.org/t/how-to-load-all-data-into-gpu-for-training/27609/22?page=2\n",
        "\n",
        "Also, we need the weights to be on the GPU. We can do that by using the model itself, sending it to the GPU as well.\n",
        "\n",
        "https://discuss.pytorch.org/t/how-to-load-all-data-into-gpu-for-training/27609/34?page=2"
      ]
    },
    {
      "cell_type": "code",
      "execution_count": null,
      "metadata": {
        "id": "d8w-uHjaA5w9"
      },
      "outputs": [],
      "source": [
        "# GPU or CPU Device\n",
        "device = torch.device('cuda' if torch.cuda.is_available() else 'cpu')\n",
        "\n",
        "model = model.to(device=device)"
      ]
    },
    {
      "cell_type": "markdown",
      "metadata": {
        "id": "8_UsCHhuQFsn"
      },
      "source": [
        "Tqdm is a simple library that can be used to generate a loading bar on loops.\n",
        "\n",
        "https://github.com/tqdm/tqdm"
      ]
    },
    {
      "cell_type": "code",
      "execution_count": null,
      "metadata": {
        "colab": {
          "base_uri": "https://localhost:8080/"
        },
        "id": "AUZNKPmvPhzn",
        "outputId": "63d21b6e-b5e1-424c-938b-47a3537112d3"
      },
      "outputs": [
        {
          "name": "stderr",
          "output_type": "stream",
          "text": [
            "Epoch 0: 100%|██████████| 21/21 [00:08<00:00,  2.44it/s]\n",
            "Epoch 1: 100%|██████████| 21/21 [00:08<00:00,  2.34it/s]\n",
            "Epoch 2: 100%|██████████| 21/21 [00:09<00:00,  2.19it/s]\n",
            "Epoch 3: 100%|██████████| 21/21 [00:09<00:00,  2.29it/s]\n",
            "Epoch 4: 100%|██████████| 21/21 [00:08<00:00,  2.40it/s]\n",
            "Epoch 5: 100%|██████████| 21/21 [00:07<00:00,  2.71it/s]\n",
            "Epoch 6: 100%|██████████| 21/21 [00:08<00:00,  2.45it/s]\n",
            "Epoch 7: 100%|██████████| 21/21 [00:08<00:00,  2.40it/s]\n",
            "Epoch 8: 100%|██████████| 21/21 [00:08<00:00,  2.49it/s]\n",
            "Epoch 9: 100%|██████████| 21/21 [00:07<00:00,  2.91it/s]\n",
            "Epoch 10: 100%|██████████| 21/21 [00:07<00:00,  2.84it/s]\n",
            "Epoch 11: 100%|██████████| 21/21 [00:08<00:00,  2.38it/s]\n",
            "Epoch 12: 100%|██████████| 21/21 [00:08<00:00,  2.61it/s]\n",
            "Epoch 13: 100%|██████████| 21/21 [00:07<00:00,  2.81it/s]\n",
            "Epoch 14: 100%|██████████| 21/21 [00:09<00:00,  2.21it/s]\n",
            "Epoch 15: 100%|██████████| 21/21 [00:10<00:00,  2.10it/s]\n",
            "Epoch 16: 100%|██████████| 21/21 [00:08<00:00,  2.44it/s]\n",
            "Epoch 17: 100%|██████████| 21/21 [00:09<00:00,  2.30it/s]\n",
            "Epoch 18: 100%|██████████| 21/21 [00:07<00:00,  2.63it/s]\n",
            "Epoch 19: 100%|██████████| 21/21 [00:08<00:00,  2.41it/s]\n",
            "Epoch 20: 100%|██████████| 21/21 [00:08<00:00,  2.38it/s]\n",
            "Epoch 21: 100%|██████████| 21/21 [00:09<00:00,  2.23it/s]\n",
            "Epoch 22: 100%|██████████| 21/21 [00:08<00:00,  2.51it/s]\n",
            "Epoch 23: 100%|██████████| 21/21 [00:07<00:00,  2.76it/s]\n",
            "Epoch 24: 100%|██████████| 21/21 [00:08<00:00,  2.36it/s]\n",
            "Epoch 25: 100%|██████████| 21/21 [00:08<00:00,  2.49it/s]\n",
            "Epoch 26: 100%|██████████| 21/21 [00:08<00:00,  2.61it/s]\n",
            "Epoch 27: 100%|██████████| 21/21 [00:07<00:00,  2.81it/s]\n",
            "Epoch 28: 100%|██████████| 21/21 [00:08<00:00,  2.45it/s]\n",
            "Epoch 29: 100%|██████████| 21/21 [00:09<00:00,  2.30it/s]\n",
            "Epoch 30: 100%|██████████| 21/21 [00:08<00:00,  2.34it/s]\n",
            "Epoch 31: 100%|██████████| 21/21 [00:07<00:00,  2.73it/s]\n",
            "Epoch 32: 100%|██████████| 21/21 [00:08<00:00,  2.59it/s]\n",
            "Epoch 33: 100%|██████████| 21/21 [00:08<00:00,  2.59it/s]\n",
            "Epoch 34: 100%|██████████| 21/21 [00:09<00:00,  2.19it/s]\n",
            "Epoch 35: 100%|██████████| 21/21 [00:09<00:00,  2.33it/s]\n",
            "Epoch 36: 100%|██████████| 21/21 [00:09<00:00,  2.28it/s]\n",
            "Epoch 37: 100%|██████████| 21/21 [00:08<00:00,  2.49it/s]\n",
            "Epoch 38: 100%|██████████| 21/21 [00:08<00:00,  2.39it/s]\n",
            "Epoch 39: 100%|██████████| 21/21 [00:09<00:00,  2.28it/s]\n",
            "Epoch 40: 100%|██████████| 21/21 [00:09<00:00,  2.14it/s]\n",
            "Epoch 41: 100%|██████████| 21/21 [00:07<00:00,  2.68it/s]\n",
            "Epoch 42: 100%|██████████| 21/21 [00:08<00:00,  2.34it/s]\n",
            "Epoch 43: 100%|██████████| 21/21 [00:09<00:00,  2.18it/s]\n",
            "Epoch 44: 100%|██████████| 21/21 [00:08<00:00,  2.41it/s]\n",
            "Epoch 45: 100%|██████████| 21/21 [00:08<00:00,  2.36it/s]\n",
            "Epoch 46: 100%|██████████| 21/21 [00:08<00:00,  2.53it/s]\n",
            "Epoch 47: 100%|██████████| 21/21 [00:08<00:00,  2.42it/s]\n",
            "Epoch 48: 100%|██████████| 21/21 [00:08<00:00,  2.37it/s]\n",
            "Epoch 49: 100%|██████████| 21/21 [00:09<00:00,  2.25it/s]\n"
          ]
        }
      ],
      "source": [
        "from tqdm import tqdm\n",
        "# Loop\n",
        "for epoch in range(NUM_EPOCHS):\n",
        "  iterable_ds = iter(loader) # reinitialize batches whenever we run a new epoch\n",
        "  for i in tqdm(range(NUM_BATCHES), desc=f\"Epoch {epoch}\"):\n",
        "    try:\n",
        "      batch, labels = next(iterable_ds) # we get the images (batch) and corresponding labels. That's returned by __getitem__, it seems.\n",
        "      batch = batch.to(device=device)\n",
        "      labels = labels.to(device=device)\n",
        "      #print(model.cl1.weight.device, batch.device)\n",
        "      final_outputs = model(batch)\n",
        "\n",
        "      loss_results = loss(final_outputs, labels)\n",
        "\n",
        "      optimizer.zero_grad()\n",
        "      loss_results.backward()\n",
        "      optimizer.step()\n",
        "\n",
        "      scheduler.step()\n",
        "    except StopIteration:\n",
        "      print(f'Exception Encountered: batch {i}/{NUM_BATCHES} in epoch {epoch}')\n"
      ]
    },
    {
      "cell_type": "markdown",
      "metadata": {
        "id": "PzhkMeogcEKT"
      },
      "source": [
        "# Evaluation"
      ]
    },
    {
      "cell_type": "markdown",
      "metadata": {
        "id": "ijprcBF46cc1"
      },
      "source": [
        "Evaluating with Training Data"
      ]
    },
    {
      "cell_type": "code",
      "execution_count": null,
      "metadata": {
        "colab": {
          "base_uri": "https://localhost:8080/"
        },
        "id": "L09WCHhRb2Fk",
        "outputId": "0202923e-7f6f-4221-fe13-cc88db06c55c"
      },
      "outputs": [
        {
          "name": "stderr",
          "output_type": "stream",
          "text": [
            "  0%|          | 0/21 [00:00<?, ?it/s]/tmp/ipython-input-1274239813.py:27: DeprecationWarning: __array__ implementation doesn't accept a copy keyword, so passing copy=False failed. __array__ must implement 'dtype' and 'copy' keyword arguments.\n",
            "  predicted_classes[i*BATCH_SIZE:i*BATCH_SIZE+BATCH_SIZE] = pred_classes[:]\n",
            "/tmp/ipython-input-1274239813.py:28: DeprecationWarning: __array__ implementation doesn't accept a copy keyword, so passing copy=False failed. __array__ must implement 'dtype' and 'copy' keyword arguments.\n",
            "  labels_all[i*BATCH_SIZE:i*BATCH_SIZE+BATCH_SIZE] = labels[:]\n",
            "100%|██████████| 21/21 [00:25<00:00,  1.20s/it]"
          ]
        },
        {
          "name": "stdout",
          "output_type": "stream",
          "text": [
            "Accuracy: 156/210 | 74.2857%\n",
            "[[66 29  1]\n",
            " [ 3 52  2]\n",
            " [ 0 19 38]]\n"
          ]
        },
        {
          "name": "stderr",
          "output_type": "stream",
          "text": [
            "\n"
          ]
        }
      ],
      "source": [
        "import torch\n",
        "from sklearn.metrics import confusion_matrix\n",
        "import numpy as np\n",
        "\n",
        "# Making new Iterable\n",
        "iterable_ds_2 = iter(loader)\n",
        "\n",
        "accuracy = 0\n",
        "\n",
        "with torch.no_grad():\n",
        "  predicted_classes = np.empty(NUM_IMGS)\n",
        "  labels_all = np.empty(NUM_IMGS)\n",
        "\n",
        "  model.cpu()\n",
        "  for i in tqdm(range(NUM_BATCHES)): # NUM_BATCHES\n",
        "    batch, labels = next(iterable_ds_2)\n",
        "    batch = batch.cpu()\n",
        "    labels = labels.cpu()\n",
        "\n",
        "    pred = torch.softmax(model(batch), dim=0) # this will run softmax on each score, generating probabilities\n",
        "    pred_classes = torch.max(pred, dim=1).indices # torch.max with dim=1 will run through every prediction and return the highest probability for that prediction.\n",
        "    # the .indices will return the indices of thoses highest probabilities, which correspond to the classes.\n",
        "\n",
        "    right_answers = (pred_classes == labels).sum() # for accuracy calculation\n",
        "    accuracy += right_answers\n",
        "\n",
        "    predicted_classes[i*BATCH_SIZE:i*BATCH_SIZE+BATCH_SIZE] = pred_classes[:]\n",
        "    labels_all[i*BATCH_SIZE:i*BATCH_SIZE+BATCH_SIZE] = labels[:]\n",
        "\n",
        "  print(f'Accuracy: {accuracy}/{NUM_IMGS} | {(accuracy*100/NUM_IMGS):.4f}%')\n",
        "\n",
        "  print(confusion_matrix(labels_all, predicted_classes, labels=[0, 1, 2]))\n"
      ]
    },
    {
      "cell_type": "code",
      "execution_count": null,
      "metadata": {
        "colab": {
          "base_uri": "https://localhost:8080/"
        },
        "id": "7i0zOnYMZ2oE",
        "outputId": "0eac389e-5149-4243-8ea1-14f9794196eb"
      },
      "outputs": [
        {
          "name": "stderr",
          "output_type": "stream",
          "text": [
            "  0%|          | 0/7 [00:00<?, ?it/s]/tmp/ipython-input-3948820383.py:34: DeprecationWarning: __array__ implementation doesn't accept a copy keyword, so passing copy=False failed. __array__ must implement 'dtype' and 'copy' keyword arguments.\n",
            "  predicted_classes[i*BATCH_SIZE:i*BATCH_SIZE+BATCH_SIZE] = pred_classes[:]\n",
            "/tmp/ipython-input-3948820383.py:35: DeprecationWarning: __array__ implementation doesn't accept a copy keyword, so passing copy=False failed. __array__ must implement 'dtype' and 'copy' keyword arguments.\n",
            "  labels_all[i*BATCH_SIZE:i*BATCH_SIZE+BATCH_SIZE] = labels[:]\n",
            "100%|██████████| 7/7 [00:06<00:00,  1.16it/s]"
          ]
        },
        {
          "name": "stdout",
          "output_type": "stream",
          "text": [
            "Accuracy: 43/66 | 65.1515%\n",
            "[[18  8  0]\n",
            " [ 0 16  4]\n",
            " [ 1 10  9]]\n"
          ]
        },
        {
          "name": "stderr",
          "output_type": "stream",
          "text": [
            "\n"
          ]
        }
      ],
      "source": [
        "import torch\n",
        "from sklearn.metrics import confusion_matrix\n",
        "import numpy as np\n",
        "\n",
        "# Making new Iterable\n",
        "test_loader = DataLoader(\n",
        "    dataset=test_ds,\n",
        "    batch_size=BATCH_SIZE,\n",
        "    shuffle=True,\n",
        "    num_workers=2\n",
        ")\n",
        "\n",
        "NUM_TEST_IMGS = len(test_ds.imgs)\n",
        "NUM_TEST_BATCHES = math.ceil(NUM_TEST_IMGS/BATCH_SIZE)\n",
        "iterable_ds_2 = iter(test_loader)\n",
        "\n",
        "accuracy = 0\n",
        "\n",
        "with torch.no_grad():\n",
        "  predicted_classes = np.empty(NUM_TEST_IMGS)\n",
        "  labels_all = np.empty(NUM_TEST_IMGS)\n",
        "  model.cpu()\n",
        "  for i in tqdm(range(NUM_TEST_BATCHES)): # NUM_BATCHES\n",
        "    batch, labels = next(iterable_ds_2)\n",
        "    batch = batch.cpu()\n",
        "    labels = labels.cpu()\n",
        "    pred = torch.softmax(model(batch), dim=0) # this will run softmax on each score, generating probabilities\n",
        "    pred_classes = torch.max(pred, dim=1).indices # torch.max with dim=1 will run through every prediction and return the highest probability for that prediction.\n",
        "    # the .indices will return the indices of thoses highest probabilities, which correspond to the classes.\n",
        "\n",
        "    right_answers = (pred_classes == labels).sum() # for accuracy calculation\n",
        "    accuracy += right_answers\n",
        "\n",
        "    predicted_classes[i*BATCH_SIZE:i*BATCH_SIZE+BATCH_SIZE] = pred_classes[:]\n",
        "    labels_all[i*BATCH_SIZE:i*BATCH_SIZE+BATCH_SIZE] = labels[:]\n",
        "\n",
        "  print(f'Accuracy: {accuracy}/{NUM_TEST_IMGS} | {(accuracy*100/NUM_TEST_IMGS):.4f}%')\n",
        "\n",
        "  print(confusion_matrix(labels_all, predicted_classes, labels=[0, 1, 2]))\n"
      ]
    }
  ],
  "metadata": {
    "accelerator": "GPU",
    "colab": {
      "gpuType": "T4",
      "provenance": []
    },
    "kernelspec": {
      "display_name": "venv",
      "language": "python",
      "name": "python3"
    },
    "language_info": {
      "codemirror_mode": {
        "name": "ipython",
        "version": 3
      },
      "file_extension": ".py",
      "mimetype": "text/x-python",
      "name": "python",
      "nbconvert_exporter": "python",
      "pygments_lexer": "ipython3",
      "version": "3.12.3"
    }
  },
  "nbformat": 4,
  "nbformat_minor": 0
}
